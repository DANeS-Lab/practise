{
  "nbformat": 4,
  "nbformat_minor": 0,
  "metadata": {
    "colab": {
      "name": "NumpyTensorflow.ipynb",
      "provenance": [],
      "collapsed_sections": [],
      "authorship_tag": "ABX9TyM3HKhXLyn5akljCyKjp+2/",
      "include_colab_link": true
    },
    "kernelspec": {
      "name": "python3",
      "display_name": "Python 3"
    }
  },
  "cells": [
    {
      "cell_type": "markdown",
      "metadata": {
        "id": "view-in-github",
        "colab_type": "text"
      },
      "source": [
        "<a href=\"https://colab.research.google.com/github/DANeS-Lab/practise/blob/master/NumpyTensorflow.ipynb\" target=\"_parent\"><img src=\"https://colab.research.google.com/assets/colab-badge.svg\" alt=\"Open In Colab\"/></a>"
      ]
    },
    {
      "cell_type": "code",
      "metadata": {
        "colab": {
          "base_uri": "https://localhost:8080/"
        },
        "id": "EcIyU3L786EG",
        "outputId": "890cae94-bd1d-461e-e8b8-040b3fb1647a"
      },
      "source": [
        "import numpy as np\n",
        "import tensorflow as tf\n",
        "\n",
        "arr = np.array([1, 2, 3, 4, 5])\n",
        "print(arr)\n",
        "print(type(arr))"
      ],
      "execution_count": 2,
      "outputs": [
        {
          "output_type": "stream",
          "text": [
            "[1 2 3 4 5]\n",
            "<class 'numpy.ndarray'>\n"
          ],
          "name": "stdout"
        }
      ]
    },
    {
      "cell_type": "code",
      "metadata": {
        "colab": {
          "base_uri": "https://localhost:8080/"
        },
        "id": "sTV3ifHRc3sh",
        "outputId": "8a6bc23c-3b5e-4c29-b8b3-21009db2108f"
      },
      "source": [
        "l=[ [1,2], [3, \"a\"]]\n",
        "m=np.array(l)\n",
        "print (m, type(m), m.shape)"
      ],
      "execution_count": 3,
      "outputs": [
        {
          "output_type": "stream",
          "text": [
            "[['1' '2']\n",
            " ['3' 'a']] <class 'numpy.ndarray'> (2, 2)\n"
          ],
          "name": "stdout"
        }
      ]
    },
    {
      "cell_type": "markdown",
      "metadata": {
        "id": "8aQPY8Ow-DSm"
      },
      "source": [
        "# **Dimensions**"
      ]
    },
    {
      "cell_type": "code",
      "metadata": {
        "colab": {
          "base_uri": "https://localhost:8080/"
        },
        "id": "pJZmJkDh-BIJ",
        "outputId": "de77eacf-2430-47e9-fd25-52b052646440"
      },
      "source": [
        "a = np.array(42)\n",
        "b = np.array([1, 2, 3, 4, 5])\n",
        "c = np.array([[1, 2, 3], [4, 5, 6]])\n",
        "d = np.array([[[1, 2, 3], [4, 5, 6]], [[1, 2, 3], [4, 5, 6]]])\n",
        "\n",
        "print(a.ndim)\n",
        "print(b.ndim)\n",
        "print(c.ndim)\n",
        "print(d.ndim) \n",
        "\n",
        "arr = np.array([1, 2, 3, 4], ndmin=5)\n",
        "print(arr)\n",
        "print('number of dimensions :', arr.ndim)"
      ],
      "execution_count": 4,
      "outputs": [
        {
          "output_type": "stream",
          "text": [
            "0\n",
            "1\n",
            "2\n",
            "3\n",
            "[[[[[1 2 3 4]]]]]\n",
            "number of dimensions : 5\n"
          ],
          "name": "stdout"
        }
      ]
    },
    {
      "cell_type": "markdown",
      "metadata": {
        "id": "RWxDab-K_xpB"
      },
      "source": [
        "# **Access Elements of Array**"
      ]
    },
    {
      "cell_type": "code",
      "metadata": {
        "colab": {
          "base_uri": "https://localhost:8080/"
        },
        "id": "Q6bkwUCr_0JJ",
        "outputId": "d6b8bbe0-4f63-4617-f47a-e0f42d4881c6"
      },
      "source": [
        "arr = np.array([[1,2,3,4,5], [6,7,8,9,10]])\n",
        "print('5th element on 2nd dim: ', arr[1, 4])\n",
        "print('Last element from 2nd dim: ', arr[1, -1])"
      ],
      "execution_count": 5,
      "outputs": [
        {
          "output_type": "stream",
          "text": [
            "5th element on 2nd dim:  10\n",
            "Last element from 2nd dim:  10\n"
          ],
          "name": "stdout"
        }
      ]
    },
    {
      "cell_type": "markdown",
      "metadata": {
        "id": "0DhEUNCqKbEB"
      },
      "source": [
        "# **Datatype**"
      ]
    },
    {
      "cell_type": "code",
      "metadata": {
        "colab": {
          "base_uri": "https://localhost:8080/"
        },
        "id": "fUJyzCOpKdq5",
        "outputId": "ce0f0579-c362-49e3-99e2-1e58b81ff644"
      },
      "source": [
        "arr = np.array([1, 2.76, 3, 4.8], dtype='f4')\n",
        "print(arr)\n",
        "print(arr.dtype) \n",
        "print (arr.astype(int))"
      ],
      "execution_count": 6,
      "outputs": [
        {
          "output_type": "stream",
          "text": [
            "[1.   2.76 3.   4.8 ]\n",
            "float32\n",
            "[1 2 3 4]\n"
          ],
          "name": "stdout"
        }
      ]
    },
    {
      "cell_type": "code",
      "metadata": {
        "colab": {
          "base_uri": "https://localhost:8080/"
        },
        "id": "6yeqBol-K-0X",
        "outputId": "0d31f867-f183-4bd9-bfc9-6f5477fcece3"
      },
      "source": [
        "arr = np.array([1, 0, 3, -5])\n",
        "newarr = arr.astype(bool)\n",
        "print(newarr)\n",
        "print(newarr.dtype) "
      ],
      "execution_count": 7,
      "outputs": [
        {
          "output_type": "stream",
          "text": [
            "[ True False  True  True]\n",
            "bool\n"
          ],
          "name": "stdout"
        }
      ]
    },
    {
      "cell_type": "markdown",
      "metadata": {
        "id": "PVlf2MjkDY47"
      },
      "source": [
        "# **Slicing**"
      ]
    },
    {
      "cell_type": "code",
      "metadata": {
        "colab": {
          "base_uri": "https://localhost:8080/"
        },
        "id": "aY9SKRkEBtRw",
        "outputId": "fa7687de-070a-4ecb-fd51-d6ea2a7eae50"
      },
      "source": [
        "arr = np.array([1, 2, 3, 4, 5, 6, 7, 8, 9, 10])\n",
        "print(arr[0:6:2])\n",
        "print(arr[-3:-1]) \n",
        "print (arr[::2])"
      ],
      "execution_count": 8,
      "outputs": [
        {
          "output_type": "stream",
          "text": [
            "[1 3 5]\n",
            "[8 9]\n",
            "[1 3 5 7 9]\n"
          ],
          "name": "stdout"
        }
      ]
    },
    {
      "cell_type": "markdown",
      "metadata": {
        "id": "pyVLx4WmLV6m"
      },
      "source": [
        "# **Copy View**"
      ]
    },
    {
      "cell_type": "code",
      "metadata": {
        "colab": {
          "base_uri": "https://localhost:8080/"
        },
        "id": "U0PMnb9DLbZA",
        "outputId": "d0a95a71-670a-4a42-e2fd-564ce5c21c3a"
      },
      "source": [
        "arr = np.array([1, 2, 3, 4, 5])\n",
        "x = arr.copy()\n",
        "arr[0] = 42\n",
        "print(arr)\n",
        "print(x) "
      ],
      "execution_count": 9,
      "outputs": [
        {
          "output_type": "stream",
          "text": [
            "[42  2  3  4  5]\n",
            "[1 2 3 4 5]\n"
          ],
          "name": "stdout"
        }
      ]
    },
    {
      "cell_type": "code",
      "metadata": {
        "colab": {
          "base_uri": "https://localhost:8080/"
        },
        "id": "yaaxeEI7Lm0D",
        "outputId": "b31d88d2-f592-42ad-853e-0a8c51ffd9ac"
      },
      "source": [
        "arr = np.array([1, 2, 3, 4, 5])\n",
        "x = arr.copy()\n",
        "y = arr.view()\n",
        "print(x.base)\n",
        "print(y.base) "
      ],
      "execution_count": 10,
      "outputs": [
        {
          "output_type": "stream",
          "text": [
            "None\n",
            "[1 2 3 4 5]\n"
          ],
          "name": "stdout"
        }
      ]
    },
    {
      "cell_type": "markdown",
      "metadata": {
        "id": "SZZrimUMbFc-"
      },
      "source": [
        "# **Reshape**"
      ]
    },
    {
      "cell_type": "code",
      "metadata": {
        "colab": {
          "base_uri": "https://localhost:8080/"
        },
        "id": "kKFSQPcobHIe",
        "outputId": "6ff7efc0-50ef-4bb6-c56b-2239939bfff1"
      },
      "source": [
        "arr = np.array([1, 2, 3, 4, 5, 6, 7, 8])\n",
        "print (arr.reshape(2, 4))\n",
        "print(arr.reshape(2, 4).base)"
      ],
      "execution_count": 11,
      "outputs": [
        {
          "output_type": "stream",
          "text": [
            "[[1 2 3 4]\n",
            " [5 6 7 8]]\n",
            "[1 2 3 4 5 6 7 8]\n"
          ],
          "name": "stdout"
        }
      ]
    },
    {
      "cell_type": "markdown",
      "metadata": {
        "id": "tCgrFvkXblhP"
      },
      "source": [
        "# **Iterate**"
      ]
    },
    {
      "cell_type": "code",
      "metadata": {
        "id": "3NYGiOQCbnXp",
        "colab": {
          "base_uri": "https://localhost:8080/"
        },
        "outputId": "9e85410d-9a0a-4c7f-e1b2-c1857a3599ac"
      },
      "source": [
        "arr = np.array([[1, 2, 3], [4, 5, 6]])\n",
        "\n",
        "#row wise\n",
        "for x in arr:\n",
        "  print(x)\n",
        "  \n",
        "#each element\n",
        "\n",
        "for tup, v in np.ndenumerate(arr):\n",
        "  print (tup, v)\n",
        "\n",
        "for x in np.nditer(arr):\n",
        "  print(x)"
      ],
      "execution_count": 12,
      "outputs": [
        {
          "output_type": "stream",
          "text": [
            "[1 2 3]\n",
            "[4 5 6]\n",
            "(0, 0) 1\n",
            "(0, 1) 2\n",
            "(0, 2) 3\n",
            "(1, 0) 4\n",
            "(1, 1) 5\n",
            "(1, 2) 6\n",
            "1\n",
            "2\n",
            "3\n",
            "4\n",
            "5\n",
            "6\n"
          ],
          "name": "stdout"
        }
      ]
    },
    {
      "cell_type": "code",
      "metadata": {
        "id": "gVWQdchfcNYx",
        "colab": {
          "base_uri": "https://localhost:8080/"
        },
        "outputId": "5f750db7-f646-4cc6-d911-ee943e79c7bb"
      },
      "source": [
        "#arr = np.array([1, 2, 3])\n",
        "\n",
        "for x in np.nditer(arr, flags=['buffered'], op_dtypes=['S']):\n",
        "  print(x)"
      ],
      "execution_count": 13,
      "outputs": [
        {
          "output_type": "stream",
          "text": [
            "b'1'\n",
            "b'2'\n",
            "b'3'\n",
            "b'4'\n",
            "b'5'\n",
            "b'6'\n"
          ],
          "name": "stdout"
        }
      ]
    },
    {
      "cell_type": "code",
      "metadata": {
        "colab": {
          "base_uri": "https://localhost:8080/"
        },
        "id": "D_eaEGhwO0-S",
        "outputId": "1c6739d8-6d52-4f0a-87c2-e163e1913cb7"
      },
      "source": [
        "arr=np.array([1, 2, 3, 4, 5])\n",
        "squaring=lambda t: t**2\n",
        "vfunc=np.vectorize(squaring)\n",
        "vfunc(arr)"
      ],
      "execution_count": 76,
      "outputs": [
        {
          "output_type": "execute_result",
          "data": {
            "text/plain": [
              "array([ 1,  4,  9, 16, 25])"
            ]
          },
          "metadata": {
            "tags": []
          },
          "execution_count": 76
        }
      ]
    },
    {
      "cell_type": "markdown",
      "metadata": {
        "id": "9isYKyMPdpPx"
      },
      "source": [
        "# **Join**"
      ]
    },
    {
      "cell_type": "code",
      "metadata": {
        "id": "WYoqqmQkdq1Q",
        "colab": {
          "base_uri": "https://localhost:8080/"
        },
        "outputId": "e3520443-0c64-4da3-ef54-3490dc5f281e"
      },
      "source": [
        "arr1 = np.array([1, 2, 3])\n",
        "arr2 = np.array([4, 5, 6])\n",
        "arr = np.concatenate((arr1, arr2))#default axis=0\n",
        "print(arr)"
      ],
      "execution_count": 14,
      "outputs": [
        {
          "output_type": "stream",
          "text": [
            "[1 2 3 4 5 6]\n"
          ],
          "name": "stdout"
        }
      ]
    },
    {
      "cell_type": "code",
      "metadata": {
        "colab": {
          "base_uri": "https://localhost:8080/"
        },
        "id": "tzsvISgndysD",
        "outputId": "a8b39920-e35c-445b-99cd-70b54ca15217"
      },
      "source": [
        "arr1 = np.array([[1, 2], [3, 4]])\n",
        "arr2 = np.array([[5, 6], [7, 8]])\n",
        "\n",
        "arr = np.concatenate((arr1, arr2), axis=0) ##creating each element of new array by axis\n",
        "print(arr, arr.shape)\n",
        "arr = np.concatenate((arr1, arr2), axis=1) ##creating each element of new array by axis\n",
        "print(arr, arr.shape) "
      ],
      "execution_count": 77,
      "outputs": [
        {
          "output_type": "stream",
          "text": [
            "[[1 2]\n",
            " [3 4]\n",
            " [5 6]\n",
            " [7 8]] (4, 2)\n",
            "[[1 2 5 6]\n",
            " [3 4 7 8]] (2, 4)\n"
          ],
          "name": "stdout"
        }
      ]
    },
    {
      "cell_type": "code",
      "metadata": {
        "colab": {
          "base_uri": "https://localhost:8080/"
        },
        "id": "dicYdd0AeNsc",
        "outputId": "fc587687-9b0c-4b9a-a4f9-a43fb5b80948"
      },
      "source": [
        "#stacking\n",
        "\n",
        "#arr1 = np.array([1, 2, 3])\n",
        "#arr2 = np.array([4, 5, 6])\n",
        "arr1 = np.array([[1, 2], [3, 4 ]])\n",
        "arr2 = np.array([[5, 6], [7, 8]])\n",
        "\n",
        "arr = np.stack((arr1, arr2), axis=1)\n",
        "print(arr, arr.shape)"
      ],
      "execution_count": 82,
      "outputs": [
        {
          "output_type": "stream",
          "text": [
            "[[[1 2]\n",
            "  [5 6]]\n",
            "\n",
            " [[3 4]\n",
            "  [7 8]]] (2, 2, 2)\n"
          ],
          "name": "stdout"
        }
      ]
    },
    {
      "cell_type": "code",
      "metadata": {
        "colab": {
          "base_uri": "https://localhost:8080/"
        },
        "id": "_4w1lzzue2uQ",
        "outputId": "92dd57c7-a811-497c-d1d5-ae83ea6595e1"
      },
      "source": [
        "arr = np.hstack((arr1, arr2))\n",
        "print (arr, arr.shape)"
      ],
      "execution_count": 81,
      "outputs": [
        {
          "output_type": "stream",
          "text": [
            "[[1 2 5 6]\n",
            " [3 4 7 8]] (2, 4)\n"
          ],
          "name": "stdout"
        }
      ]
    },
    {
      "cell_type": "code",
      "metadata": {
        "colab": {
          "base_uri": "https://localhost:8080/"
        },
        "id": "k0S2FMoQe3YM",
        "outputId": "3ab9a8b6-b4f9-4955-b0a6-6cd10829e407"
      },
      "source": [
        "arr = np.vstack((arr1, arr2))\n",
        "print (arr, arr.shape)"
      ],
      "execution_count": 80,
      "outputs": [
        {
          "output_type": "stream",
          "text": [
            "[[1 2]\n",
            " [3 4]\n",
            " [5 6]\n",
            " [7 8]] (4, 2)\n"
          ],
          "name": "stdout"
        }
      ]
    },
    {
      "cell_type": "code",
      "metadata": {
        "colab": {
          "base_uri": "https://localhost:8080/"
        },
        "id": "jdUC1jNWe8_X",
        "outputId": "86eb7ae3-13ef-45e0-901d-e3ce405ed077"
      },
      "source": [
        "arr = np.dstack((arr1, arr2))\n",
        "print (arr, arr.shape)"
      ],
      "execution_count": 79,
      "outputs": [
        {
          "output_type": "stream",
          "text": [
            "[[[1 5]\n",
            "  [2 6]]\n",
            "\n",
            " [[3 7]\n",
            "  [4 8]]] (2, 2, 2)\n"
          ],
          "name": "stdout"
        }
      ]
    },
    {
      "cell_type": "markdown",
      "metadata": {
        "id": "XXLvItrfiHUb"
      },
      "source": [
        "# **Splitting**"
      ]
    },
    {
      "cell_type": "code",
      "metadata": {
        "colab": {
          "base_uri": "https://localhost:8080/"
        },
        "id": "aEfDLncQiJJi",
        "outputId": "4c2567f0-485a-4682-94ae-67b98c0e8be0"
      },
      "source": [
        "arr = np.array([1, 2, 3, 4, 5, 6])\n",
        "\n",
        "newarr = np.array_split(arr, 3)\n",
        "print(newarr)\n",
        "\n",
        "newarr = np.array_split(arr, 4)\n",
        "print(newarr, type(newarr), type(newarr[0])) "
      ],
      "execution_count": 20,
      "outputs": [
        {
          "output_type": "stream",
          "text": [
            "[array([1, 2]), array([3, 4]), array([5, 6])]\n",
            "[array([1, 2]), array([3, 4]), array([5]), array([6])] <class 'list'> <class 'numpy.ndarray'>\n"
          ],
          "name": "stdout"
        }
      ]
    },
    {
      "cell_type": "code",
      "metadata": {
        "id": "e9Df6WICjCkw"
      },
      "source": [
        "arr = np.array([[1, 2, 3], [4, 5, 6], [7, 8, 9], [10, 11, 12], [13, 14, 15], [16, 17, 18]])\n",
        "newarr = np.array_split(arr, 3, axis=1)\n",
        "print(newarr) "
      ],
      "execution_count": null,
      "outputs": []
    },
    {
      "cell_type": "code",
      "metadata": {
        "id": "4il9K_PfjTA1"
      },
      "source": [
        "arr = np.array([[1, 2, 3], [4, 5, 6], [7, 8, 9], [10, 11, 12], [13, 14, 15], [16, 17, 18]])\n",
        "newarr = np.hsplit(arr, 3)\n",
        "print(newarr) "
      ],
      "execution_count": null,
      "outputs": []
    },
    {
      "cell_type": "markdown",
      "metadata": {
        "id": "avqCfhmE7Hep"
      },
      "source": [
        "# **Initialization**"
      ]
    },
    {
      "cell_type": "code",
      "metadata": {
        "id": "jDvSak-j7M7T"
      },
      "source": [
        "a=np.random.randint(100)\n",
        "print (a)\n",
        "\n",
        "a=np.random.rand()\n",
        "print (a)\n",
        "\n",
        "a=np.random.randint(low=0, high=100, size=(2,3))\n",
        "print (a)\n",
        "\n",
        "a=np.zeros((2,3)); print (a)\n",
        "a=np.full((2,3), 5); print (a)\n",
        "a=np.random.uniform(low=0, high=100, size=(2,3)); print (a)"
      ],
      "execution_count": null,
      "outputs": []
    },
    {
      "cell_type": "markdown",
      "metadata": {
        "id": "XCAkFUoT6Kce"
      },
      "source": [
        "# **Mulitplication**"
      ]
    },
    {
      "cell_type": "code",
      "metadata": {
        "colab": {
          "base_uri": "https://localhost:8080/"
        },
        "id": "fcXx0Ne1EE0o",
        "outputId": "12548e6f-1b46-49c2-a4a0-3cfd34fc9378"
      },
      "source": [
        "a=3+8j\n",
        "b=5-2j\n",
        "print (np.dot(a, b), np.dot(6, 7))"
      ],
      "execution_count": 70,
      "outputs": [
        {
          "output_type": "stream",
          "text": [
            "(31+34j) 42\n"
          ],
          "name": "stdout"
        }
      ]
    },
    {
      "cell_type": "code",
      "metadata": {
        "colab": {
          "base_uri": "https://localhost:8080/"
        },
        "id": "jgy2ojMlB7V8",
        "outputId": "4e19a3f9-9cfa-4dbe-8cac-6a4117522efd"
      },
      "source": [
        "#dot\n",
        "\n",
        "a=np.array([1,2,3])\n",
        "print (a.shape, type(a))\n",
        "b=np.full((3, ), 1)\n",
        "print (b.shape, type(b))\n",
        "d=np.dot(a, b)\n",
        "print (a, b, d, d.shape, type(d))\n",
        "#print (np.dot(2, a))"
      ],
      "execution_count": 73,
      "outputs": [
        {
          "output_type": "stream",
          "text": [
            "(3,) <class 'numpy.ndarray'>\n",
            "(3,) <class 'numpy.ndarray'>\n",
            "[1 2 3] [1 1 1] 6 () <class 'numpy.int64'>\n",
            "[2 4 6]\n"
          ],
          "name": "stdout"
        }
      ]
    },
    {
      "cell_type": "markdown",
      "metadata": {
        "id": "_VVaDnX7FX1p"
      },
      "source": [
        "###Q)Normalized Dot Product of two numpy 1-D arrays "
      ]
    },
    {
      "cell_type": "code",
      "metadata": {
        "id": "tHY9SDyMAb94"
      },
      "source": [
        "a=np.full((2, 3, 4), 1)\n",
        "b=np.random.uniform(low=2, high=3, size=(5, 4, 2)).astype(int)\n",
        "print (a.shape)\n",
        "print (b.shape)\n",
        "\n",
        "d=np.dot(a, b)"
      ],
      "execution_count": null,
      "outputs": []
    },
    {
      "cell_type": "code",
      "metadata": {
        "colab": {
          "base_uri": "https://localhost:8080/"
        },
        "id": "Q4ce823m6M6O",
        "outputId": "79335bb7-b2df-4894-dcd4-73596c43e00a"
      },
      "source": [
        "#matmul: (n,k),(k,m)->(n,m).\n",
        "\n",
        "a = np.ones([9, 5, 7, 4])\n",
        "c = np.ones([9, 5, 4, 3])\n",
        "e = np.ones([1, 4])\n",
        "print (a.shape, c.shape, e.shape)\n",
        "d=np.dot(a, c)\n",
        "print (d.shape)\n",
        "v=np.matmul(a, c)\n",
        "print (v.shape)\n",
        "#ae=a+e#np.matmul(a, e)\n",
        "#print (ae.shape)"
      ],
      "execution_count": 69,
      "outputs": [
        {
          "output_type": "stream",
          "text": [
            "(9, 5, 7, 4) (9, 5, 4, 3) (1, 4)\n",
            "(9, 5, 7, 9, 5, 3)\n",
            "(9, 5, 7, 3)\n",
            "(9, 5, 7, 4)\n"
          ],
          "name": "stdout"
        }
      ]
    },
    {
      "cell_type": "markdown",
      "metadata": {
        "id": "YWO_rdK_G1Ia"
      },
      "source": [
        "# **Broadcast operation**"
      ]
    },
    {
      "cell_type": "code",
      "metadata": {
        "id": "8T4xWHS4Hvw5"
      },
      "source": [
        "#A way of vectorizing matrix operation.\n",
        "#matrices are treated as element and "
      ],
      "execution_count": null,
      "outputs": []
    },
    {
      "cell_type": "markdown",
      "metadata": {
        "id": "QZNF7-ffTrNI"
      },
      "source": [
        "## Q)Broadcast matrix e over a for matrix multiplication"
      ]
    },
    {
      "cell_type": "markdown",
      "metadata": {
        "id": "kiA_Mxj2QJg_"
      },
      "source": [
        "# **Tensorflow tf**"
      ]
    },
    {
      "cell_type": "code",
      "metadata": {
        "colab": {
          "base_uri": "https://localhost:8080/"
        },
        "id": "5cNP57KEQMAZ",
        "outputId": "cc353a1a-5627-44ca-83a5-ba7dba40258f"
      },
      "source": [
        "a = np.array([[1, 2, 3], [4, 5, 6]])\n",
        "t=tf.constant(a)\n",
        "print (t, type(t), t.shape)"
      ],
      "execution_count": 78,
      "outputs": [
        {
          "output_type": "stream",
          "text": [
            "tf.Tensor(\n",
            "[[1 2 3]\n",
            " [4 5 6]], shape=(2, 3), dtype=int64) <class 'tensorflow.python.framework.ops.EagerTensor'> (2, 3)\n"
          ],
          "name": "stdout"
        }
      ]
    },
    {
      "cell_type": "markdown",
      "metadata": {
        "id": "NLeB1Mp9QyI_"
      },
      "source": [
        "For a functional keras model: if it has 2 input nodes and 2 output nodes. Then model will accept inputs as:\n",
        "X= [  (#samples, each_instance_shape),  (#samples, each_instance_shape) ]\n",
        "ouputs:\n",
        "Y= [  (#samples, output_instance_shape),  (#samples, each_instance_shape) ]"
      ]
    }
  ]
}