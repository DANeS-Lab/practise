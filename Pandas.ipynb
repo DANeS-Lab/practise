{
  "nbformat": 4,
  "nbformat_minor": 0,
  "metadata": {
    "colab": {
      "name": "Pandas.ipynb",
      "provenance": [],
      "collapsed_sections": [],
      "authorship_tag": "ABX9TyN7OJgE/z1Iq2jrkMgXp4RI",
      "include_colab_link": true
    },
    "kernelspec": {
      "name": "python3",
      "display_name": "Python 3"
    }
  },
  "cells": [
    {
      "cell_type": "markdown",
      "metadata": {
        "id": "view-in-github",
        "colab_type": "text"
      },
      "source": [
        "<a href=\"https://colab.research.google.com/github/DANeS-Lab/practise/blob/master/Pandas.ipynb\" target=\"_parent\"><img src=\"https://colab.research.google.com/assets/colab-badge.svg\" alt=\"Open In Colab\"/></a>"
      ]
    },
    {
      "cell_type": "markdown",
      "metadata": {
        "id": "dEF6S__9-acY"
      },
      "source": [
        "#**Why Use Pandas?** \n",
        "\n",
        "Pandas allows us to analyze big data and make conclusions based on statistical theories.\n"
      ]
    },
    {
      "cell_type": "markdown",
      "metadata": {
        "id": "dytXnNKh-Zui"
      },
      "source": [
        "# **What Can Pandas Do?**\n",
        "\n",
        "Pandas gives you answers about the data. Like:\n",
        "\n",
        "   * Is there a correlation between two or more columns?\n",
        "   * What is average value?\n",
        "   *  Max value?\n",
        "   *  Min value?\n"
      ]
    },
    {
      "cell_type": "code",
      "metadata": {
        "id": "vkBFksMTBtdR"
      },
      "source": [
        "import pandas as pd\n",
        "\n",
        "print(pd.__version__) "
      ],
      "execution_count": null,
      "outputs": []
    },
    {
      "cell_type": "code",
      "metadata": {
        "colab": {
          "base_uri": "https://localhost:8080/",
          "height": 426
        },
        "id": "EdykVQw5Kd3L",
        "outputId": "cf69a9ed-20d4-4ef1-aae1-2859bc3e9873"
      },
      "source": [
        "\n",
        "import pandas as pd \n",
        "  \n",
        "  \n",
        "df = pd.DataFrame({\"Team\": [\"Radisson\", \"Radisson\", \"Gladiators\", \n",
        "                            \"Blues\", \"Gladiators\", \"Blues\",  \n",
        "                            \"Gladiators\", \"Gladiators\", \"Blues\",  \n",
        "                            \"Blues\", \"Radisson\", \"Radisson\"], \n",
        "                     \n",
        "        \"Position\": [\"Player\", \"Extras\", \"Player\", \"Extras\", \n",
        "                     \"Extras\", \"Player\", \"Player\", \"Player\", \n",
        "                     \"Extras\", \"Player\", \"Player\", \"Extras\"], \n",
        "                     \n",
        "        \"Age\": [22, 24, 21, 29, 32, 20, 21, 23, 30, 26, 20, 31]}) \n",
        "  \n",
        "df \n"
      ],
      "execution_count": 36,
      "outputs": [
        {
          "output_type": "execute_result",
          "data": {
            "text/html": [
              "<div>\n",
              "<style scoped>\n",
              "    .dataframe tbody tr th:only-of-type {\n",
              "        vertical-align: middle;\n",
              "    }\n",
              "\n",
              "    .dataframe tbody tr th {\n",
              "        vertical-align: top;\n",
              "    }\n",
              "\n",
              "    .dataframe thead th {\n",
              "        text-align: right;\n",
              "    }\n",
              "</style>\n",
              "<table border=\"1\" class=\"dataframe\">\n",
              "  <thead>\n",
              "    <tr style=\"text-align: right;\">\n",
              "      <th></th>\n",
              "      <th>Team</th>\n",
              "      <th>Position</th>\n",
              "      <th>Age</th>\n",
              "    </tr>\n",
              "  </thead>\n",
              "  <tbody>\n",
              "    <tr>\n",
              "      <th>0</th>\n",
              "      <td>Radisson</td>\n",
              "      <td>Player</td>\n",
              "      <td>22</td>\n",
              "    </tr>\n",
              "    <tr>\n",
              "      <th>1</th>\n",
              "      <td>Radisson</td>\n",
              "      <td>Extras</td>\n",
              "      <td>24</td>\n",
              "    </tr>\n",
              "    <tr>\n",
              "      <th>2</th>\n",
              "      <td>Gladiators</td>\n",
              "      <td>Player</td>\n",
              "      <td>21</td>\n",
              "    </tr>\n",
              "    <tr>\n",
              "      <th>3</th>\n",
              "      <td>Blues</td>\n",
              "      <td>Extras</td>\n",
              "      <td>29</td>\n",
              "    </tr>\n",
              "    <tr>\n",
              "      <th>4</th>\n",
              "      <td>Gladiators</td>\n",
              "      <td>Extras</td>\n",
              "      <td>32</td>\n",
              "    </tr>\n",
              "    <tr>\n",
              "      <th>5</th>\n",
              "      <td>Blues</td>\n",
              "      <td>Player</td>\n",
              "      <td>20</td>\n",
              "    </tr>\n",
              "    <tr>\n",
              "      <th>6</th>\n",
              "      <td>Gladiators</td>\n",
              "      <td>Player</td>\n",
              "      <td>21</td>\n",
              "    </tr>\n",
              "    <tr>\n",
              "      <th>7</th>\n",
              "      <td>Gladiators</td>\n",
              "      <td>Player</td>\n",
              "      <td>23</td>\n",
              "    </tr>\n",
              "    <tr>\n",
              "      <th>8</th>\n",
              "      <td>Blues</td>\n",
              "      <td>Extras</td>\n",
              "      <td>30</td>\n",
              "    </tr>\n",
              "    <tr>\n",
              "      <th>9</th>\n",
              "      <td>Blues</td>\n",
              "      <td>Player</td>\n",
              "      <td>26</td>\n",
              "    </tr>\n",
              "    <tr>\n",
              "      <th>10</th>\n",
              "      <td>Radisson</td>\n",
              "      <td>Player</td>\n",
              "      <td>20</td>\n",
              "    </tr>\n",
              "    <tr>\n",
              "      <th>11</th>\n",
              "      <td>Radisson</td>\n",
              "      <td>Extras</td>\n",
              "      <td>31</td>\n",
              "    </tr>\n",
              "  </tbody>\n",
              "</table>\n",
              "</div>"
            ],
            "text/plain": [
              "          Team Position  Age\n",
              "0     Radisson   Player   22\n",
              "1     Radisson   Extras   24\n",
              "2   Gladiators   Player   21\n",
              "3        Blues   Extras   29\n",
              "4   Gladiators   Extras   32\n",
              "5        Blues   Player   20\n",
              "6   Gladiators   Player   21\n",
              "7   Gladiators   Player   23\n",
              "8        Blues   Extras   30\n",
              "9        Blues   Player   26\n",
              "10    Radisson   Player   20\n",
              "11    Radisson   Extras   31"
            ]
          },
          "metadata": {
            "tags": []
          },
          "execution_count": 36
        }
      ]
    },
    {
      "cell_type": "code",
      "metadata": {
        "colab": {
          "base_uri": "https://localhost:8080/"
        },
        "id": "CpF-lUp5LIsB",
        "outputId": "2f39bf04-a7e0-46aa-9b84-b0c51ef201f4"
      },
      "source": [
        "#df[\"Age\"].sum()\n",
        "#df[\"Age\"].max()"
      ],
      "execution_count": 42,
      "outputs": [
        {
          "output_type": "execute_result",
          "data": {
            "text/plain": [
              "32"
            ]
          },
          "metadata": {
            "tags": []
          },
          "execution_count": 42
        }
      ]
    },
    {
      "cell_type": "markdown",
      "metadata": {
        "id": "NXeOPFyYMLmi"
      },
      "source": [
        ""
      ]
    },
    {
      "cell_type": "markdown",
      "metadata": {
        "id": "tgTyZtIp6JCL"
      },
      "source": [
        "# **loc Vs iloc**\n",
        "**loc**\n",
        "* loc() is label based data selecting method which means that *we have to pass the name of the row or column which we want to select*.\n",
        "* includes the last element of the range passed in it, unlike iloc()\n",
        "* loc() can accept the boolean data unlike iloc() . "
      ]
    },
    {
      "cell_type": "markdown",
      "metadata": {
        "id": "jNg4Dxsf6RdO"
      },
      "source": [
        "**Create a sample dataframe**"
      ]
    },
    {
      "cell_type": "code",
      "metadata": {
        "colab": {
          "base_uri": "https://localhost:8080/",
          "height": 269
        },
        "id": "753YGWUA7Aj2",
        "outputId": "7bac8177-72bd-42d2-ed15-917d2006eb92"
      },
      "source": [
        "import pandas as pd\n",
        "import numpy as np\n",
        "\n",
        "data = pd.DataFrame({\n",
        "    'age' :     [ 10, 22, 13, 21, 12, 11, 17],\n",
        "    'section' : [ 'A', 'B', 'C', 'B', 'B', 'A', 'A'],\n",
        "    'city' :    [ 'Gurgaon', 'Delhi', 'Mumbai', 'Delhi', 'Mumbai', 'Delhi', 'Mumbai'],\n",
        "    'gender' :  [ 'M', 'F', 'F', 'M', 'M', 'M', 'F'],\n",
        "    'favourite_color' : [ 'red', np.NAN, 'yellow', np.NAN, 'black', 'green', 'red']\n",
        "})\n",
        "\n",
        "data"
      ],
      "execution_count": 8,
      "outputs": [
        {
          "output_type": "execute_result",
          "data": {
            "text/html": [
              "<div>\n",
              "<style scoped>\n",
              "    .dataframe tbody tr th:only-of-type {\n",
              "        vertical-align: middle;\n",
              "    }\n",
              "\n",
              "    .dataframe tbody tr th {\n",
              "        vertical-align: top;\n",
              "    }\n",
              "\n",
              "    .dataframe thead th {\n",
              "        text-align: right;\n",
              "    }\n",
              "</style>\n",
              "<table border=\"1\" class=\"dataframe\">\n",
              "  <thead>\n",
              "    <tr style=\"text-align: right;\">\n",
              "      <th></th>\n",
              "      <th>age</th>\n",
              "      <th>section</th>\n",
              "      <th>city</th>\n",
              "      <th>gender</th>\n",
              "      <th>favourite_color</th>\n",
              "    </tr>\n",
              "  </thead>\n",
              "  <tbody>\n",
              "    <tr>\n",
              "      <th>0</th>\n",
              "      <td>10</td>\n",
              "      <td>A</td>\n",
              "      <td>Gurgaon</td>\n",
              "      <td>M</td>\n",
              "      <td>red</td>\n",
              "    </tr>\n",
              "    <tr>\n",
              "      <th>1</th>\n",
              "      <td>22</td>\n",
              "      <td>B</td>\n",
              "      <td>Delhi</td>\n",
              "      <td>F</td>\n",
              "      <td>NaN</td>\n",
              "    </tr>\n",
              "    <tr>\n",
              "      <th>2</th>\n",
              "      <td>13</td>\n",
              "      <td>C</td>\n",
              "      <td>Mumbai</td>\n",
              "      <td>F</td>\n",
              "      <td>yellow</td>\n",
              "    </tr>\n",
              "    <tr>\n",
              "      <th>3</th>\n",
              "      <td>21</td>\n",
              "      <td>B</td>\n",
              "      <td>Delhi</td>\n",
              "      <td>M</td>\n",
              "      <td>NaN</td>\n",
              "    </tr>\n",
              "    <tr>\n",
              "      <th>4</th>\n",
              "      <td>12</td>\n",
              "      <td>B</td>\n",
              "      <td>Mumbai</td>\n",
              "      <td>M</td>\n",
              "      <td>black</td>\n",
              "    </tr>\n",
              "    <tr>\n",
              "      <th>5</th>\n",
              "      <td>11</td>\n",
              "      <td>A</td>\n",
              "      <td>Delhi</td>\n",
              "      <td>M</td>\n",
              "      <td>green</td>\n",
              "    </tr>\n",
              "    <tr>\n",
              "      <th>6</th>\n",
              "      <td>17</td>\n",
              "      <td>A</td>\n",
              "      <td>Mumbai</td>\n",
              "      <td>F</td>\n",
              "      <td>red</td>\n",
              "    </tr>\n",
              "  </tbody>\n",
              "</table>\n",
              "</div>"
            ],
            "text/plain": [
              "   age section     city gender favourite_color\n",
              "0   10       A  Gurgaon      M             red\n",
              "1   22       B    Delhi      F             NaN\n",
              "2   13       C   Mumbai      F          yellow\n",
              "3   21       B    Delhi      M             NaN\n",
              "4   12       B   Mumbai      M           black\n",
              "5   11       A    Delhi      M           green\n",
              "6   17       A   Mumbai      F             red"
            ]
          },
          "metadata": {
            "tags": []
          },
          "execution_count": 8
        }
      ]
    },
    {
      "cell_type": "markdown",
      "metadata": {
        "id": "dyWtLm5H8YYL"
      },
      "source": [
        "#Find all the rows based on any condition in a column \n",
        "**Find the rows where the value of age is greater than or equal to 15**"
      ]
    },
    {
      "cell_type": "code",
      "metadata": {
        "id": "ecPAmI_f8mYo"
      },
      "source": [
        "data.loc[data.age>=15]"
      ],
      "execution_count": null,
      "outputs": []
    },
    {
      "cell_type": "markdown",
      "metadata": {
        "id": "5sYqNGCz9Fdm"
      },
      "source": [
        "#Find all the rows with more than one condition\n",
        "**Find all the rows where the age is greater than or equal to 12 and the gender is also male**"
      ]
    },
    {
      "cell_type": "code",
      "metadata": {
        "colab": {
          "base_uri": "https://localhost:8080/",
          "height": 112
        },
        "id": "NZKquzV89Pef",
        "outputId": "9913d861-5b88-4766-d8f5-6ede236cc39a"
      },
      "source": [
        "data.loc[(data.age>=12)&(data.gender == 'M')]"
      ],
      "execution_count": 11,
      "outputs": [
        {
          "output_type": "execute_result",
          "data": {
            "text/html": [
              "<div>\n",
              "<style scoped>\n",
              "    .dataframe tbody tr th:only-of-type {\n",
              "        vertical-align: middle;\n",
              "    }\n",
              "\n",
              "    .dataframe tbody tr th {\n",
              "        vertical-align: top;\n",
              "    }\n",
              "\n",
              "    .dataframe thead th {\n",
              "        text-align: right;\n",
              "    }\n",
              "</style>\n",
              "<table border=\"1\" class=\"dataframe\">\n",
              "  <thead>\n",
              "    <tr style=\"text-align: right;\">\n",
              "      <th></th>\n",
              "      <th>age</th>\n",
              "      <th>section</th>\n",
              "      <th>city</th>\n",
              "      <th>gender</th>\n",
              "      <th>favourite_color</th>\n",
              "    </tr>\n",
              "  </thead>\n",
              "  <tbody>\n",
              "    <tr>\n",
              "      <th>3</th>\n",
              "      <td>21</td>\n",
              "      <td>B</td>\n",
              "      <td>Delhi</td>\n",
              "      <td>M</td>\n",
              "      <td>NaN</td>\n",
              "    </tr>\n",
              "    <tr>\n",
              "      <th>4</th>\n",
              "      <td>12</td>\n",
              "      <td>B</td>\n",
              "      <td>Mumbai</td>\n",
              "      <td>M</td>\n",
              "      <td>black</td>\n",
              "    </tr>\n",
              "  </tbody>\n",
              "</table>\n",
              "</div>"
            ],
            "text/plain": [
              "   age section    city gender favourite_color\n",
              "3   21       B   Delhi      M             NaN\n",
              "4   12       B  Mumbai      M           black"
            ]
          },
          "metadata": {
            "tags": []
          },
          "execution_count": 11
        }
      ]
    },
    {
      "cell_type": "markdown",
      "metadata": {
        "id": "N8EUcoJq9v2z"
      },
      "source": [
        "#Select a range of rows using loc\n",
        "* If the indices are not numbers, then we cannot slice our dataframe. \\\\\n",
        "* In that case, we need to use the iloc function.\n",
        "****"
      ]
    },
    {
      "cell_type": "code",
      "metadata": {
        "colab": {
          "base_uri": "https://localhost:8080/",
          "height": 143
        },
        "id": "wQrpsxsI-OWQ",
        "outputId": "a8691701-96e4-40be-e746-290781e58f61"
      },
      "source": [
        "#slice\n",
        "data.loc[1:3]\n",
        "#data.iloc[1:3]"
      ],
      "execution_count": 28,
      "outputs": [
        {
          "output_type": "execute_result",
          "data": {
            "text/html": [
              "<div>\n",
              "<style scoped>\n",
              "    .dataframe tbody tr th:only-of-type {\n",
              "        vertical-align: middle;\n",
              "    }\n",
              "\n",
              "    .dataframe tbody tr th {\n",
              "        vertical-align: top;\n",
              "    }\n",
              "\n",
              "    .dataframe thead th {\n",
              "        text-align: right;\n",
              "    }\n",
              "</style>\n",
              "<table border=\"1\" class=\"dataframe\">\n",
              "  <thead>\n",
              "    <tr style=\"text-align: right;\">\n",
              "      <th></th>\n",
              "      <th>age</th>\n",
              "      <th>section</th>\n",
              "      <th>city</th>\n",
              "      <th>gender</th>\n",
              "      <th>favourite_color</th>\n",
              "    </tr>\n",
              "  </thead>\n",
              "  <tbody>\n",
              "    <tr>\n",
              "      <th>1</th>\n",
              "      <td>22</td>\n",
              "      <td>S</td>\n",
              "      <td>Pune</td>\n",
              "      <td>F</td>\n",
              "      <td>NaN</td>\n",
              "    </tr>\n",
              "    <tr>\n",
              "      <th>2</th>\n",
              "      <td>13</td>\n",
              "      <td>IITP</td>\n",
              "      <td>Mumbai</td>\n",
              "      <td>F</td>\n",
              "      <td>yellow</td>\n",
              "    </tr>\n",
              "    <tr>\n",
              "      <th>3</th>\n",
              "      <td>21</td>\n",
              "      <td>S</td>\n",
              "      <td>Pune</td>\n",
              "      <td>M</td>\n",
              "      <td>NaN</td>\n",
              "    </tr>\n",
              "  </tbody>\n",
              "</table>\n",
              "</div>"
            ],
            "text/plain": [
              "   age section    city gender favourite_color\n",
              "1   22       S    Pune      F             NaN\n",
              "2   13    IITP  Mumbai      F          yellow\n",
              "3   21       S    Pune      M             NaN"
            ]
          },
          "metadata": {
            "tags": []
          },
          "execution_count": 28
        }
      ]
    },
    {
      "cell_type": "markdown",
      "metadata": {
        "id": "zDoL5RlS9vUU"
      },
      "source": [
        "#Select only required columns with a condition"
      ]
    },
    {
      "cell_type": "code",
      "metadata": {
        "colab": {
          "base_uri": "https://localhost:8080/",
          "height": 206
        },
        "id": "f0psEfGR-fHw",
        "outputId": "179147ba-90bc-44c8-b25a-6e9dbfec0095"
      },
      "source": [
        "data.loc[(data.age >= 12),['age','city']]"
      ],
      "execution_count": 14,
      "outputs": [
        {
          "output_type": "execute_result",
          "data": {
            "text/html": [
              "<div>\n",
              "<style scoped>\n",
              "    .dataframe tbody tr th:only-of-type {\n",
              "        vertical-align: middle;\n",
              "    }\n",
              "\n",
              "    .dataframe tbody tr th {\n",
              "        vertical-align: top;\n",
              "    }\n",
              "\n",
              "    .dataframe thead th {\n",
              "        text-align: right;\n",
              "    }\n",
              "</style>\n",
              "<table border=\"1\" class=\"dataframe\">\n",
              "  <thead>\n",
              "    <tr style=\"text-align: right;\">\n",
              "      <th></th>\n",
              "      <th>age</th>\n",
              "      <th>city</th>\n",
              "    </tr>\n",
              "  </thead>\n",
              "  <tbody>\n",
              "    <tr>\n",
              "      <th>1</th>\n",
              "      <td>22</td>\n",
              "      <td>Delhi</td>\n",
              "    </tr>\n",
              "    <tr>\n",
              "      <th>2</th>\n",
              "      <td>13</td>\n",
              "      <td>Mumbai</td>\n",
              "    </tr>\n",
              "    <tr>\n",
              "      <th>3</th>\n",
              "      <td>21</td>\n",
              "      <td>Delhi</td>\n",
              "    </tr>\n",
              "    <tr>\n",
              "      <th>4</th>\n",
              "      <td>12</td>\n",
              "      <td>Mumbai</td>\n",
              "    </tr>\n",
              "    <tr>\n",
              "      <th>6</th>\n",
              "      <td>17</td>\n",
              "      <td>Mumbai</td>\n",
              "    </tr>\n",
              "  </tbody>\n",
              "</table>\n",
              "</div>"
            ],
            "text/plain": [
              "   age    city\n",
              "1   22   Delhi\n",
              "2   13  Mumbai\n",
              "3   21   Delhi\n",
              "4   12  Mumbai\n",
              "6   17  Mumbai"
            ]
          },
          "metadata": {
            "tags": []
          },
          "execution_count": 14
        }
      ]
    },
    {
      "cell_type": "markdown",
      "metadata": {
        "id": "tIg-zu_5_RmX"
      },
      "source": [
        "#Update the values of a particular column on selected rows\n",
        "if the values in age are greater than equal to 12, then we want to update the values of the column section to be “IITP”"
      ]
    },
    {
      "cell_type": "code",
      "metadata": {
        "id": "k0SdVrlC_SrK"
      },
      "source": [
        "data.loc[(data.age>=12),['section']]='IITP'\n",
        "data"
      ],
      "execution_count": null,
      "outputs": []
    },
    {
      "cell_type": "markdown",
      "metadata": {
        "id": "u0WNbsc1BTjf"
      },
      "source": [
        "#Update the values of multiple columns on selected rows"
      ]
    },
    {
      "cell_type": "code",
      "metadata": {
        "id": "aNjG4cu2BdpB"
      },
      "source": [
        "data.loc[(data.age >= 20), ['section', 'city']] = ['S','Pune']\n",
        "data"
      ],
      "execution_count": null,
      "outputs": []
    },
    {
      "cell_type": "markdown",
      "metadata": {
        "id": "c9GJZIMOC4AI"
      },
      "source": [
        "#iloc\n",
        "* iloc() is a indexed based selecting method which means that we have to pass integer index in the method to select specific row/column. \n",
        "* This method does not include the last element of the range passed in it unlike loc(). \n",
        "* iloc() does not accept the boolean index unlike loc()"
      ]
    },
    {
      "cell_type": "code",
      "metadata": {
        "id": "l-B8MdilFzw6"
      },
      "source": [
        "import pandas as pd\n",
        "import numpy as np\n",
        "\n",
        "data = pd.DataFrame({\n",
        "    'age' :     [ 10, 22, 13, 21, 12, 11, 17],\n",
        "    'section' : [ 'A', 'B', 'C', 'B', 'B', 'A', 'A'],\n",
        "    'city' :    [ 'Gurgaon', 'Delhi', 'Mumbai', 'Delhi', 'Mumbai', 'Delhi', 'Mumbai'],\n",
        "    'gender' :  [ 'M', 'F', 'F', 'M', 'M', 'M', 'F'],\n",
        "    'favourite_color' : [ 'red', np.NAN, 'yellow', np.NAN, 'black', 'green', 'red']\n",
        "})\n"
      ],
      "execution_count": 29,
      "outputs": []
    },
    {
      "cell_type": "markdown",
      "metadata": {
        "id": "Fja_bRi3F46i"
      },
      "source": [
        "#Select rows with indices using iloc\n",
        "\n",
        "want to select only the first and third row"
      ]
    },
    {
      "cell_type": "code",
      "metadata": {
        "colab": {
          "base_uri": "https://localhost:8080/",
          "height": 112
        },
        "id": "-9dqcKn0F-zb",
        "outputId": "095b351a-ffce-4f93-a1e5-fff1f7ba439e"
      },
      "source": [
        "data.iloc[[0,2]]"
      ],
      "execution_count": 31,
      "outputs": [
        {
          "output_type": "execute_result",
          "data": {
            "text/html": [
              "<div>\n",
              "<style scoped>\n",
              "    .dataframe tbody tr th:only-of-type {\n",
              "        vertical-align: middle;\n",
              "    }\n",
              "\n",
              "    .dataframe tbody tr th {\n",
              "        vertical-align: top;\n",
              "    }\n",
              "\n",
              "    .dataframe thead th {\n",
              "        text-align: right;\n",
              "    }\n",
              "</style>\n",
              "<table border=\"1\" class=\"dataframe\">\n",
              "  <thead>\n",
              "    <tr style=\"text-align: right;\">\n",
              "      <th></th>\n",
              "      <th>age</th>\n",
              "      <th>section</th>\n",
              "      <th>city</th>\n",
              "      <th>gender</th>\n",
              "      <th>favourite_color</th>\n",
              "    </tr>\n",
              "  </thead>\n",
              "  <tbody>\n",
              "    <tr>\n",
              "      <th>0</th>\n",
              "      <td>10</td>\n",
              "      <td>A</td>\n",
              "      <td>Gurgaon</td>\n",
              "      <td>M</td>\n",
              "      <td>red</td>\n",
              "    </tr>\n",
              "    <tr>\n",
              "      <th>2</th>\n",
              "      <td>13</td>\n",
              "      <td>C</td>\n",
              "      <td>Mumbai</td>\n",
              "      <td>F</td>\n",
              "      <td>yellow</td>\n",
              "    </tr>\n",
              "  </tbody>\n",
              "</table>\n",
              "</div>"
            ],
            "text/plain": [
              "   age section     city gender favourite_color\n",
              "0   10       A  Gurgaon      M             red\n",
              "2   13       C   Mumbai      F          yellow"
            ]
          },
          "metadata": {
            "tags": []
          },
          "execution_count": 31
        }
      ]
    },
    {
      "cell_type": "markdown",
      "metadata": {
        "id": "FlMV9-W6Ficq"
      },
      "source": [
        "#Select rows with particular indices and particular columns"
      ]
    },
    {
      "cell_type": "code",
      "metadata": {
        "colab": {
          "base_uri": "https://localhost:8080/",
          "height": 112
        },
        "id": "P0lOLeixFsld",
        "outputId": "ee5f18bb-59e3-47f9-9d30-af5509094817"
      },
      "source": [
        "data.iloc[[0,2],[1,3]]"
      ],
      "execution_count": 30,
      "outputs": [
        {
          "output_type": "execute_result",
          "data": {
            "text/html": [
              "<div>\n",
              "<style scoped>\n",
              "    .dataframe tbody tr th:only-of-type {\n",
              "        vertical-align: middle;\n",
              "    }\n",
              "\n",
              "    .dataframe tbody tr th {\n",
              "        vertical-align: top;\n",
              "    }\n",
              "\n",
              "    .dataframe thead th {\n",
              "        text-align: right;\n",
              "    }\n",
              "</style>\n",
              "<table border=\"1\" class=\"dataframe\">\n",
              "  <thead>\n",
              "    <tr style=\"text-align: right;\">\n",
              "      <th></th>\n",
              "      <th>section</th>\n",
              "      <th>gender</th>\n",
              "    </tr>\n",
              "  </thead>\n",
              "  <tbody>\n",
              "    <tr>\n",
              "      <th>0</th>\n",
              "      <td>A</td>\n",
              "      <td>M</td>\n",
              "    </tr>\n",
              "    <tr>\n",
              "      <th>2</th>\n",
              "      <td>C</td>\n",
              "      <td>F</td>\n",
              "    </tr>\n",
              "  </tbody>\n",
              "</table>\n",
              "</div>"
            ],
            "text/plain": [
              "  section gender\n",
              "0       A      M\n",
              "2       C      F"
            ]
          },
          "metadata": {
            "tags": []
          },
          "execution_count": 30
        }
      ]
    },
    {
      "cell_type": "markdown",
      "metadata": {
        "id": "pI1MUXxDGPtG"
      },
      "source": [
        "#Select a range of rows and columns using iloc"
      ]
    },
    {
      "cell_type": "code",
      "metadata": {
        "colab": {
          "base_uri": "https://localhost:8080/",
          "height": 112
        },
        "id": "ydea092BGQzY",
        "outputId": "9b10b938-0c68-42cd-9fc4-cc19d17d5eb3"
      },
      "source": [
        "data.iloc[1:3,2:4]"
      ],
      "execution_count": 34,
      "outputs": [
        {
          "output_type": "execute_result",
          "data": {
            "text/html": [
              "<div>\n",
              "<style scoped>\n",
              "    .dataframe tbody tr th:only-of-type {\n",
              "        vertical-align: middle;\n",
              "    }\n",
              "\n",
              "    .dataframe tbody tr th {\n",
              "        vertical-align: top;\n",
              "    }\n",
              "\n",
              "    .dataframe thead th {\n",
              "        text-align: right;\n",
              "    }\n",
              "</style>\n",
              "<table border=\"1\" class=\"dataframe\">\n",
              "  <thead>\n",
              "    <tr style=\"text-align: right;\">\n",
              "      <th></th>\n",
              "      <th>city</th>\n",
              "      <th>gender</th>\n",
              "    </tr>\n",
              "  </thead>\n",
              "  <tbody>\n",
              "    <tr>\n",
              "      <th>1</th>\n",
              "      <td>Delhi</td>\n",
              "      <td>F</td>\n",
              "    </tr>\n",
              "    <tr>\n",
              "      <th>2</th>\n",
              "      <td>Mumbai</td>\n",
              "      <td>F</td>\n",
              "    </tr>\n",
              "  </tbody>\n",
              "</table>\n",
              "</div>"
            ],
            "text/plain": [
              "     city gender\n",
              "1   Delhi      F\n",
              "2  Mumbai      F"
            ]
          },
          "metadata": {
            "tags": []
          },
          "execution_count": 34
        }
      ]
    },
    {
      "cell_type": "code",
      "metadata": {
        "colab": {
          "base_uri": "https://localhost:8080/",
          "height": 112
        },
        "id": "_eBwWMcmEak3",
        "outputId": "7ed39354-30b3-436e-ff1e-648c3b45e76c"
      },
      "source": [
        "import pandas as pd\n",
        "  \n",
        "dict = {'name':[\"aparna\", \"pankaj\", \"sudhir\", \"Geeku\"],\n",
        "        'degree': [\"MBA\", \"BCA\", \"M.Tech\", \"MBA\"],\n",
        "        'score':[90, 40, 80, 98]}\n",
        "  \n",
        "df = pd.DataFrame(dict, index = [True, False, True, False])\n",
        "  \n",
        "#print(df)\n",
        "df.loc[True]\n",
        "#df.iloc[True]"
      ],
      "execution_count": 24,
      "outputs": [
        {
          "output_type": "execute_result",
          "data": {
            "text/html": [
              "<div>\n",
              "<style scoped>\n",
              "    .dataframe tbody tr th:only-of-type {\n",
              "        vertical-align: middle;\n",
              "    }\n",
              "\n",
              "    .dataframe tbody tr th {\n",
              "        vertical-align: top;\n",
              "    }\n",
              "\n",
              "    .dataframe thead th {\n",
              "        text-align: right;\n",
              "    }\n",
              "</style>\n",
              "<table border=\"1\" class=\"dataframe\">\n",
              "  <thead>\n",
              "    <tr style=\"text-align: right;\">\n",
              "      <th></th>\n",
              "      <th>name</th>\n",
              "      <th>degree</th>\n",
              "      <th>score</th>\n",
              "    </tr>\n",
              "  </thead>\n",
              "  <tbody>\n",
              "    <tr>\n",
              "      <th>True</th>\n",
              "      <td>aparna</td>\n",
              "      <td>MBA</td>\n",
              "      <td>90</td>\n",
              "    </tr>\n",
              "    <tr>\n",
              "      <th>True</th>\n",
              "      <td>sudhir</td>\n",
              "      <td>M.Tech</td>\n",
              "      <td>80</td>\n",
              "    </tr>\n",
              "  </tbody>\n",
              "</table>\n",
              "</div>"
            ],
            "text/plain": [
              "        name  degree  score\n",
              "True  aparna     MBA     90\n",
              "True  sudhir  M.Tech     80"
            ]
          },
          "metadata": {
            "tags": []
          },
          "execution_count": 24
        }
      ]
    },
    {
      "cell_type": "markdown",
      "metadata": {
        "id": "EXhuNm-xI9QU"
      },
      "source": [
        "#**Merge**"
      ]
    },
    {
      "cell_type": "markdown",
      "metadata": {
        "id": "gVstkGcIGoYq"
      },
      "source": [
        "#**Types of Join**\n",
        "* Inner Join\n",
        "* Left Outer Join\n",
        "* Right Outer Join\n",
        "* Full Outer Join\n",
        "\n",
        "#Inner Join\n",
        "It returns a dataframe with only those rows that have common characteristics.![inner.jpg](data:image/jpeg;base64,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)"
      ]
    },
    {
      "cell_type": "code",
      "metadata": {
        "id": "81PLWjb1PQGs"
      },
      "source": [
        "product=pd.DataFrame({\n",
        "    'Product_ID':[101,102,103,104,105,106,107],\n",
        "    'Product_name':['Watch','Bag','Shoes','Smartphone','Books','Oil','Laptop'],\n",
        "    'Category':['Fashion','Fashion','Fashion','Electronics','Study','Grocery','Electronics'],\n",
        "    'Price':[299.0,1350.50,2999.0,14999.0,145.0,110.0,79999.0],\n",
        "    'Seller_City':['Delhi','Mumbai','Chennai','Kolkata','Delhi','Chennai','Bengalore']\n",
        "})\n",
        "\n",
        "\n",
        "customer=pd.DataFrame({\n",
        "    'id':[1,2,3,4,5,6,7,8,9],\n",
        "    'name':['Olivia','Aditya','Cory','Isabell','Dominic','Tyler','Samuel','Daniel','Jeremy'],\n",
        "    'age':[20,25,15,10,30,65,35,18,23],\n",
        "    'Product_ID':[101,0,106,0,103,104,0,0,107],\n",
        "    'Purchased_Product':['Watch','NA','Oil','NA','Shoes','Smartphone','NA','NA','Laptop'],\n",
        "    'City':['Mumbai','Delhi','Bangalore','Chennai','Chennai','Delhi','Kolkata','Delhi','Mumbai']\n",
        "})"
      ],
      "execution_count": 47,
      "outputs": []
    },
    {
      "cell_type": "markdown",
      "metadata": {
        "id": "KFuTUS94QGA0"
      },
      "source": [
        "**Merge function** performs an inner join. It takes both the dataframes as arguments and the name of the column on which the join has to be performed"
      ]
    },
    {
      "cell_type": "code",
      "metadata": {
        "id": "sFQN-p46QFWU"
      },
      "source": [
        "pd.merge(product,customer,on='Product_ID')"
      ],
      "execution_count": null,
      "outputs": []
    },
    {
      "cell_type": "code",
      "metadata": {
        "id": "CW7RYuJERK1V"
      },
      "source": [
        "pd.merge(product,customer,how='inner',on='Product_ID')"
      ],
      "execution_count": null,
      "outputs": []
    },
    {
      "cell_type": "markdown",
      "metadata": {
        "id": "ROap4u0pRmqq"
      },
      "source": [
        "#Full Join\n",
        "returns all those records which either have a match in the left or right dataframe\n",
        "\n",
        "* We can perform Full join by just passing the how argument as ‘outer’ to the merge() function:\n",
        "\n",
        "![full.jpg](data:image/jpeg;base64,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)"
      ]
    },
    {
      "cell_type": "code",
      "metadata": {
        "colab": {
          "base_uri": "https://localhost:8080/",
          "height": 394
        },
        "id": "wO1fzbA8Rwx_",
        "outputId": "0ba64545-e83a-446b-c7ba-cfa38e167ac6"
      },
      "source": [
        "pd.merge(product,customer,on='Product_ID',how='outer')"
      ],
      "execution_count": 51,
      "outputs": [
        {
          "output_type": "execute_result",
          "data": {
            "text/html": [
              "<div>\n",
              "<style scoped>\n",
              "    .dataframe tbody tr th:only-of-type {\n",
              "        vertical-align: middle;\n",
              "    }\n",
              "\n",
              "    .dataframe tbody tr th {\n",
              "        vertical-align: top;\n",
              "    }\n",
              "\n",
              "    .dataframe thead th {\n",
              "        text-align: right;\n",
              "    }\n",
              "</style>\n",
              "<table border=\"1\" class=\"dataframe\">\n",
              "  <thead>\n",
              "    <tr style=\"text-align: right;\">\n",
              "      <th></th>\n",
              "      <th>Product_ID</th>\n",
              "      <th>Product_name</th>\n",
              "      <th>Category</th>\n",
              "      <th>Price</th>\n",
              "      <th>Seller_City</th>\n",
              "      <th>id</th>\n",
              "      <th>name</th>\n",
              "      <th>age</th>\n",
              "      <th>Purchased_Product</th>\n",
              "      <th>City</th>\n",
              "    </tr>\n",
              "  </thead>\n",
              "  <tbody>\n",
              "    <tr>\n",
              "      <th>0</th>\n",
              "      <td>101</td>\n",
              "      <td>Watch</td>\n",
              "      <td>Fashion</td>\n",
              "      <td>299.0</td>\n",
              "      <td>Delhi</td>\n",
              "      <td>1.0</td>\n",
              "      <td>Olivia</td>\n",
              "      <td>20.0</td>\n",
              "      <td>Watch</td>\n",
              "      <td>Mumbai</td>\n",
              "    </tr>\n",
              "    <tr>\n",
              "      <th>1</th>\n",
              "      <td>102</td>\n",
              "      <td>Bag</td>\n",
              "      <td>Fashion</td>\n",
              "      <td>1350.5</td>\n",
              "      <td>Mumbai</td>\n",
              "      <td>NaN</td>\n",
              "      <td>NaN</td>\n",
              "      <td>NaN</td>\n",
              "      <td>NaN</td>\n",
              "      <td>NaN</td>\n",
              "    </tr>\n",
              "    <tr>\n",
              "      <th>2</th>\n",
              "      <td>103</td>\n",
              "      <td>Shoes</td>\n",
              "      <td>Fashion</td>\n",
              "      <td>2999.0</td>\n",
              "      <td>Chennai</td>\n",
              "      <td>5.0</td>\n",
              "      <td>Dominic</td>\n",
              "      <td>30.0</td>\n",
              "      <td>Shoes</td>\n",
              "      <td>Chennai</td>\n",
              "    </tr>\n",
              "    <tr>\n",
              "      <th>3</th>\n",
              "      <td>104</td>\n",
              "      <td>Smartphone</td>\n",
              "      <td>Electronics</td>\n",
              "      <td>14999.0</td>\n",
              "      <td>Kolkata</td>\n",
              "      <td>6.0</td>\n",
              "      <td>Tyler</td>\n",
              "      <td>65.0</td>\n",
              "      <td>Smartphone</td>\n",
              "      <td>Delhi</td>\n",
              "    </tr>\n",
              "    <tr>\n",
              "      <th>4</th>\n",
              "      <td>105</td>\n",
              "      <td>Books</td>\n",
              "      <td>Study</td>\n",
              "      <td>145.0</td>\n",
              "      <td>Delhi</td>\n",
              "      <td>NaN</td>\n",
              "      <td>NaN</td>\n",
              "      <td>NaN</td>\n",
              "      <td>NaN</td>\n",
              "      <td>NaN</td>\n",
              "    </tr>\n",
              "    <tr>\n",
              "      <th>5</th>\n",
              "      <td>106</td>\n",
              "      <td>Oil</td>\n",
              "      <td>Grocery</td>\n",
              "      <td>110.0</td>\n",
              "      <td>Chennai</td>\n",
              "      <td>3.0</td>\n",
              "      <td>Cory</td>\n",
              "      <td>15.0</td>\n",
              "      <td>Oil</td>\n",
              "      <td>Bangalore</td>\n",
              "    </tr>\n",
              "    <tr>\n",
              "      <th>6</th>\n",
              "      <td>107</td>\n",
              "      <td>Laptop</td>\n",
              "      <td>Electronics</td>\n",
              "      <td>79999.0</td>\n",
              "      <td>Bengalore</td>\n",
              "      <td>9.0</td>\n",
              "      <td>Jeremy</td>\n",
              "      <td>23.0</td>\n",
              "      <td>Laptop</td>\n",
              "      <td>Mumbai</td>\n",
              "    </tr>\n",
              "    <tr>\n",
              "      <th>7</th>\n",
              "      <td>0</td>\n",
              "      <td>NaN</td>\n",
              "      <td>NaN</td>\n",
              "      <td>NaN</td>\n",
              "      <td>NaN</td>\n",
              "      <td>2.0</td>\n",
              "      <td>Aditya</td>\n",
              "      <td>25.0</td>\n",
              "      <td>NA</td>\n",
              "      <td>Delhi</td>\n",
              "    </tr>\n",
              "    <tr>\n",
              "      <th>8</th>\n",
              "      <td>0</td>\n",
              "      <td>NaN</td>\n",
              "      <td>NaN</td>\n",
              "      <td>NaN</td>\n",
              "      <td>NaN</td>\n",
              "      <td>4.0</td>\n",
              "      <td>Isabell</td>\n",
              "      <td>10.0</td>\n",
              "      <td>NA</td>\n",
              "      <td>Chennai</td>\n",
              "    </tr>\n",
              "    <tr>\n",
              "      <th>9</th>\n",
              "      <td>0</td>\n",
              "      <td>NaN</td>\n",
              "      <td>NaN</td>\n",
              "      <td>NaN</td>\n",
              "      <td>NaN</td>\n",
              "      <td>7.0</td>\n",
              "      <td>Samuel</td>\n",
              "      <td>35.0</td>\n",
              "      <td>NA</td>\n",
              "      <td>Kolkata</td>\n",
              "    </tr>\n",
              "    <tr>\n",
              "      <th>10</th>\n",
              "      <td>0</td>\n",
              "      <td>NaN</td>\n",
              "      <td>NaN</td>\n",
              "      <td>NaN</td>\n",
              "      <td>NaN</td>\n",
              "      <td>8.0</td>\n",
              "      <td>Daniel</td>\n",
              "      <td>18.0</td>\n",
              "      <td>NA</td>\n",
              "      <td>Delhi</td>\n",
              "    </tr>\n",
              "  </tbody>\n",
              "</table>\n",
              "</div>"
            ],
            "text/plain": [
              "    Product_ID Product_name     Category  ...   age Purchased_Product       City\n",
              "0          101        Watch      Fashion  ...  20.0             Watch     Mumbai\n",
              "1          102          Bag      Fashion  ...   NaN               NaN        NaN\n",
              "2          103        Shoes      Fashion  ...  30.0             Shoes    Chennai\n",
              "3          104   Smartphone  Electronics  ...  65.0        Smartphone      Delhi\n",
              "4          105        Books        Study  ...   NaN               NaN        NaN\n",
              "5          106          Oil      Grocery  ...  15.0               Oil  Bangalore\n",
              "6          107       Laptop  Electronics  ...  23.0            Laptop     Mumbai\n",
              "7            0          NaN          NaN  ...  25.0                NA      Delhi\n",
              "8            0          NaN          NaN  ...  10.0                NA    Chennai\n",
              "9            0          NaN          NaN  ...  35.0                NA    Kolkata\n",
              "10           0          NaN          NaN  ...  18.0                NA      Delhi\n",
              "\n",
              "[11 rows x 10 columns]"
            ]
          },
          "metadata": {
            "tags": []
          },
          "execution_count": 51
        }
      ]
    },
    {
      "cell_type": "markdown",
      "metadata": {
        "id": "HKIx2JWLSL-7"
      },
      "source": [
        "**Which row belongs to which dataframe**"
      ]
    },
    {
      "cell_type": "code",
      "metadata": {
        "id": "4alOjHo2SYi0"
      },
      "source": [
        "pd.merge(product,customer,on='Product_ID',how='outer',indicator=True)"
      ],
      "execution_count": null,
      "outputs": []
    },
    {
      "cell_type": "markdown",
      "metadata": {
        "id": "QZA7hrZZSjP6"
      },
      "source": [
        "#Left Join\n",
        "* Left join, also known as Left Outer Join, returns a dataframe containing all the rows of the left dataframe.\n",
        "\n",
        "#Right Join\n",
        "* ![left.jpg](data:image/jpeg;base64,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)![right.jpg](data:image/jpeg;base64,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)returns a dataframe containing all the rows of the right dataframe."
      ]
    },
    {
      "cell_type": "code",
      "metadata": {
        "colab": {
          "base_uri": "https://localhost:8080/",
          "height": 269
        },
        "id": "41_FABZRSzwW",
        "outputId": "275de758-5856-47ce-c584-8012cb2db7e4"
      },
      "source": [
        "pd.merge(product,customer,on='Product_ID',how='left')"
      ],
      "execution_count": 53,
      "outputs": [
        {
          "output_type": "execute_result",
          "data": {
            "text/html": [
              "<div>\n",
              "<style scoped>\n",
              "    .dataframe tbody tr th:only-of-type {\n",
              "        vertical-align: middle;\n",
              "    }\n",
              "\n",
              "    .dataframe tbody tr th {\n",
              "        vertical-align: top;\n",
              "    }\n",
              "\n",
              "    .dataframe thead th {\n",
              "        text-align: right;\n",
              "    }\n",
              "</style>\n",
              "<table border=\"1\" class=\"dataframe\">\n",
              "  <thead>\n",
              "    <tr style=\"text-align: right;\">\n",
              "      <th></th>\n",
              "      <th>Product_ID</th>\n",
              "      <th>Product_name</th>\n",
              "      <th>Category</th>\n",
              "      <th>Price</th>\n",
              "      <th>Seller_City</th>\n",
              "      <th>id</th>\n",
              "      <th>name</th>\n",
              "      <th>age</th>\n",
              "      <th>Purchased_Product</th>\n",
              "      <th>City</th>\n",
              "    </tr>\n",
              "  </thead>\n",
              "  <tbody>\n",
              "    <tr>\n",
              "      <th>0</th>\n",
              "      <td>101</td>\n",
              "      <td>Watch</td>\n",
              "      <td>Fashion</td>\n",
              "      <td>299.0</td>\n",
              "      <td>Delhi</td>\n",
              "      <td>1.0</td>\n",
              "      <td>Olivia</td>\n",
              "      <td>20.0</td>\n",
              "      <td>Watch</td>\n",
              "      <td>Mumbai</td>\n",
              "    </tr>\n",
              "    <tr>\n",
              "      <th>1</th>\n",
              "      <td>102</td>\n",
              "      <td>Bag</td>\n",
              "      <td>Fashion</td>\n",
              "      <td>1350.5</td>\n",
              "      <td>Mumbai</td>\n",
              "      <td>NaN</td>\n",
              "      <td>NaN</td>\n",
              "      <td>NaN</td>\n",
              "      <td>NaN</td>\n",
              "      <td>NaN</td>\n",
              "    </tr>\n",
              "    <tr>\n",
              "      <th>2</th>\n",
              "      <td>103</td>\n",
              "      <td>Shoes</td>\n",
              "      <td>Fashion</td>\n",
              "      <td>2999.0</td>\n",
              "      <td>Chennai</td>\n",
              "      <td>5.0</td>\n",
              "      <td>Dominic</td>\n",
              "      <td>30.0</td>\n",
              "      <td>Shoes</td>\n",
              "      <td>Chennai</td>\n",
              "    </tr>\n",
              "    <tr>\n",
              "      <th>3</th>\n",
              "      <td>104</td>\n",
              "      <td>Smartphone</td>\n",
              "      <td>Electronics</td>\n",
              "      <td>14999.0</td>\n",
              "      <td>Kolkata</td>\n",
              "      <td>6.0</td>\n",
              "      <td>Tyler</td>\n",
              "      <td>65.0</td>\n",
              "      <td>Smartphone</td>\n",
              "      <td>Delhi</td>\n",
              "    </tr>\n",
              "    <tr>\n",
              "      <th>4</th>\n",
              "      <td>105</td>\n",
              "      <td>Books</td>\n",
              "      <td>Study</td>\n",
              "      <td>145.0</td>\n",
              "      <td>Delhi</td>\n",
              "      <td>NaN</td>\n",
              "      <td>NaN</td>\n",
              "      <td>NaN</td>\n",
              "      <td>NaN</td>\n",
              "      <td>NaN</td>\n",
              "    </tr>\n",
              "    <tr>\n",
              "      <th>5</th>\n",
              "      <td>106</td>\n",
              "      <td>Oil</td>\n",
              "      <td>Grocery</td>\n",
              "      <td>110.0</td>\n",
              "      <td>Chennai</td>\n",
              "      <td>3.0</td>\n",
              "      <td>Cory</td>\n",
              "      <td>15.0</td>\n",
              "      <td>Oil</td>\n",
              "      <td>Bangalore</td>\n",
              "    </tr>\n",
              "    <tr>\n",
              "      <th>6</th>\n",
              "      <td>107</td>\n",
              "      <td>Laptop</td>\n",
              "      <td>Electronics</td>\n",
              "      <td>79999.0</td>\n",
              "      <td>Bengalore</td>\n",
              "      <td>9.0</td>\n",
              "      <td>Jeremy</td>\n",
              "      <td>23.0</td>\n",
              "      <td>Laptop</td>\n",
              "      <td>Mumbai</td>\n",
              "    </tr>\n",
              "  </tbody>\n",
              "</table>\n",
              "</div>"
            ],
            "text/plain": [
              "   Product_ID Product_name     Category  ...   age Purchased_Product       City\n",
              "0         101        Watch      Fashion  ...  20.0             Watch     Mumbai\n",
              "1         102          Bag      Fashion  ...   NaN               NaN        NaN\n",
              "2         103        Shoes      Fashion  ...  30.0             Shoes    Chennai\n",
              "3         104   Smartphone  Electronics  ...  65.0        Smartphone      Delhi\n",
              "4         105        Books        Study  ...   NaN               NaN        NaN\n",
              "5         106          Oil      Grocery  ...  15.0               Oil  Bangalore\n",
              "6         107       Laptop  Electronics  ...  23.0            Laptop     Mumbai\n",
              "\n",
              "[7 rows x 10 columns]"
            ]
          },
          "metadata": {
            "tags": []
          },
          "execution_count": 53
        }
      ]
    },
    {
      "cell_type": "code",
      "metadata": {
        "colab": {
          "base_uri": "https://localhost:8080/",
          "height": 332
        },
        "id": "UxFo2bXoTMfr",
        "outputId": "914b6dab-a1ca-4870-e00c-35dee8d7c769"
      },
      "source": [
        "pd.merge(product,customer,on='Product_ID',how='right')"
      ],
      "execution_count": 54,
      "outputs": [
        {
          "output_type": "execute_result",
          "data": {
            "text/html": [
              "<div>\n",
              "<style scoped>\n",
              "    .dataframe tbody tr th:only-of-type {\n",
              "        vertical-align: middle;\n",
              "    }\n",
              "\n",
              "    .dataframe tbody tr th {\n",
              "        vertical-align: top;\n",
              "    }\n",
              "\n",
              "    .dataframe thead th {\n",
              "        text-align: right;\n",
              "    }\n",
              "</style>\n",
              "<table border=\"1\" class=\"dataframe\">\n",
              "  <thead>\n",
              "    <tr style=\"text-align: right;\">\n",
              "      <th></th>\n",
              "      <th>Product_ID</th>\n",
              "      <th>Product_name</th>\n",
              "      <th>Category</th>\n",
              "      <th>Price</th>\n",
              "      <th>Seller_City</th>\n",
              "      <th>id</th>\n",
              "      <th>name</th>\n",
              "      <th>age</th>\n",
              "      <th>Purchased_Product</th>\n",
              "      <th>City</th>\n",
              "    </tr>\n",
              "  </thead>\n",
              "  <tbody>\n",
              "    <tr>\n",
              "      <th>0</th>\n",
              "      <td>101</td>\n",
              "      <td>Watch</td>\n",
              "      <td>Fashion</td>\n",
              "      <td>299.0</td>\n",
              "      <td>Delhi</td>\n",
              "      <td>1</td>\n",
              "      <td>Olivia</td>\n",
              "      <td>20</td>\n",
              "      <td>Watch</td>\n",
              "      <td>Mumbai</td>\n",
              "    </tr>\n",
              "    <tr>\n",
              "      <th>1</th>\n",
              "      <td>0</td>\n",
              "      <td>NaN</td>\n",
              "      <td>NaN</td>\n",
              "      <td>NaN</td>\n",
              "      <td>NaN</td>\n",
              "      <td>2</td>\n",
              "      <td>Aditya</td>\n",
              "      <td>25</td>\n",
              "      <td>NA</td>\n",
              "      <td>Delhi</td>\n",
              "    </tr>\n",
              "    <tr>\n",
              "      <th>2</th>\n",
              "      <td>0</td>\n",
              "      <td>NaN</td>\n",
              "      <td>NaN</td>\n",
              "      <td>NaN</td>\n",
              "      <td>NaN</td>\n",
              "      <td>4</td>\n",
              "      <td>Isabell</td>\n",
              "      <td>10</td>\n",
              "      <td>NA</td>\n",
              "      <td>Chennai</td>\n",
              "    </tr>\n",
              "    <tr>\n",
              "      <th>3</th>\n",
              "      <td>0</td>\n",
              "      <td>NaN</td>\n",
              "      <td>NaN</td>\n",
              "      <td>NaN</td>\n",
              "      <td>NaN</td>\n",
              "      <td>7</td>\n",
              "      <td>Samuel</td>\n",
              "      <td>35</td>\n",
              "      <td>NA</td>\n",
              "      <td>Kolkata</td>\n",
              "    </tr>\n",
              "    <tr>\n",
              "      <th>4</th>\n",
              "      <td>0</td>\n",
              "      <td>NaN</td>\n",
              "      <td>NaN</td>\n",
              "      <td>NaN</td>\n",
              "      <td>NaN</td>\n",
              "      <td>8</td>\n",
              "      <td>Daniel</td>\n",
              "      <td>18</td>\n",
              "      <td>NA</td>\n",
              "      <td>Delhi</td>\n",
              "    </tr>\n",
              "    <tr>\n",
              "      <th>5</th>\n",
              "      <td>106</td>\n",
              "      <td>Oil</td>\n",
              "      <td>Grocery</td>\n",
              "      <td>110.0</td>\n",
              "      <td>Chennai</td>\n",
              "      <td>3</td>\n",
              "      <td>Cory</td>\n",
              "      <td>15</td>\n",
              "      <td>Oil</td>\n",
              "      <td>Bangalore</td>\n",
              "    </tr>\n",
              "    <tr>\n",
              "      <th>6</th>\n",
              "      <td>103</td>\n",
              "      <td>Shoes</td>\n",
              "      <td>Fashion</td>\n",
              "      <td>2999.0</td>\n",
              "      <td>Chennai</td>\n",
              "      <td>5</td>\n",
              "      <td>Dominic</td>\n",
              "      <td>30</td>\n",
              "      <td>Shoes</td>\n",
              "      <td>Chennai</td>\n",
              "    </tr>\n",
              "    <tr>\n",
              "      <th>7</th>\n",
              "      <td>104</td>\n",
              "      <td>Smartphone</td>\n",
              "      <td>Electronics</td>\n",
              "      <td>14999.0</td>\n",
              "      <td>Kolkata</td>\n",
              "      <td>6</td>\n",
              "      <td>Tyler</td>\n",
              "      <td>65</td>\n",
              "      <td>Smartphone</td>\n",
              "      <td>Delhi</td>\n",
              "    </tr>\n",
              "    <tr>\n",
              "      <th>8</th>\n",
              "      <td>107</td>\n",
              "      <td>Laptop</td>\n",
              "      <td>Electronics</td>\n",
              "      <td>79999.0</td>\n",
              "      <td>Bengalore</td>\n",
              "      <td>9</td>\n",
              "      <td>Jeremy</td>\n",
              "      <td>23</td>\n",
              "      <td>Laptop</td>\n",
              "      <td>Mumbai</td>\n",
              "    </tr>\n",
              "  </tbody>\n",
              "</table>\n",
              "</div>"
            ],
            "text/plain": [
              "   Product_ID Product_name     Category  ...  age Purchased_Product       City\n",
              "0         101        Watch      Fashion  ...   20             Watch     Mumbai\n",
              "1           0          NaN          NaN  ...   25                NA      Delhi\n",
              "2           0          NaN          NaN  ...   10                NA    Chennai\n",
              "3           0          NaN          NaN  ...   35                NA    Kolkata\n",
              "4           0          NaN          NaN  ...   18                NA      Delhi\n",
              "5         106          Oil      Grocery  ...   15               Oil  Bangalore\n",
              "6         103        Shoes      Fashion  ...   30             Shoes    Chennai\n",
              "7         104   Smartphone  Electronics  ...   65        Smartphone      Delhi\n",
              "8         107       Laptop  Electronics  ...   23            Laptop     Mumbai\n",
              "\n",
              "[9 rows x 10 columns]"
            ]
          },
          "metadata": {
            "tags": []
          },
          "execution_count": 54
        }
      ]
    },
    {
      "cell_type": "markdown",
      "metadata": {
        "id": "1Sc1SXeHQZCQ"
      },
      "source": [
        "#what if the column names are different in the two dataframes? \n",
        "Then, we have to explicitly mention both the column names.\n",
        "\n",
        "* ‘left_on’ and ‘right_on’ are two arguments"
      ]
    },
    {
      "cell_type": "code",
      "metadata": {
        "colab": {
          "base_uri": "https://localhost:8080/",
          "height": 206
        },
        "id": "IQqaN198QdXS",
        "outputId": "289b91e1-8b59-4508-a640-0f434830a293"
      },
      "source": [
        "pd.merge(product,customer,left_on='Product_name',right_on='Purchased_Product')"
      ],
      "execution_count": 49,
      "outputs": [
        {
          "output_type": "execute_result",
          "data": {
            "text/html": [
              "<div>\n",
              "<style scoped>\n",
              "    .dataframe tbody tr th:only-of-type {\n",
              "        vertical-align: middle;\n",
              "    }\n",
              "\n",
              "    .dataframe tbody tr th {\n",
              "        vertical-align: top;\n",
              "    }\n",
              "\n",
              "    .dataframe thead th {\n",
              "        text-align: right;\n",
              "    }\n",
              "</style>\n",
              "<table border=\"1\" class=\"dataframe\">\n",
              "  <thead>\n",
              "    <tr style=\"text-align: right;\">\n",
              "      <th></th>\n",
              "      <th>Product_ID_x</th>\n",
              "      <th>Product_name</th>\n",
              "      <th>Category</th>\n",
              "      <th>Price</th>\n",
              "      <th>Seller_City</th>\n",
              "      <th>id</th>\n",
              "      <th>name</th>\n",
              "      <th>age</th>\n",
              "      <th>Product_ID_y</th>\n",
              "      <th>Purchased_Product</th>\n",
              "      <th>City</th>\n",
              "    </tr>\n",
              "  </thead>\n",
              "  <tbody>\n",
              "    <tr>\n",
              "      <th>0</th>\n",
              "      <td>101</td>\n",
              "      <td>Watch</td>\n",
              "      <td>Fashion</td>\n",
              "      <td>299.0</td>\n",
              "      <td>Delhi</td>\n",
              "      <td>1</td>\n",
              "      <td>Olivia</td>\n",
              "      <td>20</td>\n",
              "      <td>101</td>\n",
              "      <td>Watch</td>\n",
              "      <td>Mumbai</td>\n",
              "    </tr>\n",
              "    <tr>\n",
              "      <th>1</th>\n",
              "      <td>103</td>\n",
              "      <td>Shoes</td>\n",
              "      <td>Fashion</td>\n",
              "      <td>2999.0</td>\n",
              "      <td>Chennai</td>\n",
              "      <td>5</td>\n",
              "      <td>Dominic</td>\n",
              "      <td>30</td>\n",
              "      <td>103</td>\n",
              "      <td>Shoes</td>\n",
              "      <td>Chennai</td>\n",
              "    </tr>\n",
              "    <tr>\n",
              "      <th>2</th>\n",
              "      <td>104</td>\n",
              "      <td>Smartphone</td>\n",
              "      <td>Electronics</td>\n",
              "      <td>14999.0</td>\n",
              "      <td>Kolkata</td>\n",
              "      <td>6</td>\n",
              "      <td>Tyler</td>\n",
              "      <td>65</td>\n",
              "      <td>104</td>\n",
              "      <td>Smartphone</td>\n",
              "      <td>Delhi</td>\n",
              "    </tr>\n",
              "    <tr>\n",
              "      <th>3</th>\n",
              "      <td>106</td>\n",
              "      <td>Oil</td>\n",
              "      <td>Grocery</td>\n",
              "      <td>110.0</td>\n",
              "      <td>Chennai</td>\n",
              "      <td>3</td>\n",
              "      <td>Cory</td>\n",
              "      <td>15</td>\n",
              "      <td>106</td>\n",
              "      <td>Oil</td>\n",
              "      <td>Bangalore</td>\n",
              "    </tr>\n",
              "    <tr>\n",
              "      <th>4</th>\n",
              "      <td>107</td>\n",
              "      <td>Laptop</td>\n",
              "      <td>Electronics</td>\n",
              "      <td>79999.0</td>\n",
              "      <td>Bengalore</td>\n",
              "      <td>9</td>\n",
              "      <td>Jeremy</td>\n",
              "      <td>23</td>\n",
              "      <td>107</td>\n",
              "      <td>Laptop</td>\n",
              "      <td>Mumbai</td>\n",
              "    </tr>\n",
              "  </tbody>\n",
              "</table>\n",
              "</div>"
            ],
            "text/plain": [
              "   Product_ID_x Product_name  ... Purchased_Product       City\n",
              "0           101        Watch  ...             Watch     Mumbai\n",
              "1           103        Shoes  ...             Shoes    Chennai\n",
              "2           104   Smartphone  ...        Smartphone      Delhi\n",
              "3           106          Oil  ...               Oil  Bangalore\n",
              "4           107       Laptop  ...            Laptop     Mumbai\n",
              "\n",
              "[5 rows x 11 columns]"
            ]
          },
          "metadata": {
            "tags": []
          },
          "execution_count": 49
        }
      ]
    },
    {
      "cell_type": "markdown",
      "metadata": {
        "id": "OvJzMfeETlIK"
      },
      "source": [
        "#**DataFrame Concatenation**\n",
        "* concat() function does all of the heavy lifting of performing concatenation operations along an axis "
      ]
    },
    {
      "cell_type": "code",
      "metadata": {
        "colab": {
          "base_uri": "https://localhost:8080/",
          "height": 426
        },
        "id": "OUGNKOVNTjrE",
        "outputId": "53c4bcae-8449-461e-eea7-33fa727abb75"
      },
      "source": [
        "df1 = pd.DataFrame({'A': ['A0', 'A1', 'A2', 'A3'], \n",
        "                    'B': ['B0', 'B1', 'B2', 'B3'], \n",
        "                    'C': ['C0', 'C1', 'C2', 'C3'], \n",
        "                    'D': ['D0', 'D1', 'D2', 'D3']}, \n",
        "                    index = [0, 1, 2, 3]) \n",
        "  \n",
        "\n",
        "df2 = pd.DataFrame({'A': ['A4', 'A5', 'A6', 'A7'], \n",
        "                    'B': ['B4', 'B5', 'B6', 'B7'], \n",
        "                    'C': ['C4', 'C5', 'C6', 'C7'], \n",
        "                    'D': ['D4', 'D5', 'D6', 'D7']}, \n",
        "                    index = [4, 5, 6, 7]) \n",
        "  \n",
        "\n",
        "df3 = pd.DataFrame({'A': ['A8', 'A9', 'A10', 'A11'], \n",
        "                    'B': ['B8', 'B9', 'B10', 'B11'], \n",
        "                    'C': ['C8', 'C9', 'C10', 'C11'], \n",
        "                    'D': ['D8', 'D9', 'D10', 'D11']}, \n",
        "                    index = [8, 9, 10, 11]) \n",
        "  \n",
        "\n",
        "df_new = pd.concat([df1, df2, df3]) \n",
        "df_new"
      ],
      "execution_count": 56,
      "outputs": [
        {
          "output_type": "execute_result",
          "data": {
            "text/html": [
              "<div>\n",
              "<style scoped>\n",
              "    .dataframe tbody tr th:only-of-type {\n",
              "        vertical-align: middle;\n",
              "    }\n",
              "\n",
              "    .dataframe tbody tr th {\n",
              "        vertical-align: top;\n",
              "    }\n",
              "\n",
              "    .dataframe thead th {\n",
              "        text-align: right;\n",
              "    }\n",
              "</style>\n",
              "<table border=\"1\" class=\"dataframe\">\n",
              "  <thead>\n",
              "    <tr style=\"text-align: right;\">\n",
              "      <th></th>\n",
              "      <th>A</th>\n",
              "      <th>B</th>\n",
              "      <th>C</th>\n",
              "      <th>D</th>\n",
              "    </tr>\n",
              "  </thead>\n",
              "  <tbody>\n",
              "    <tr>\n",
              "      <th>0</th>\n",
              "      <td>A0</td>\n",
              "      <td>B0</td>\n",
              "      <td>C0</td>\n",
              "      <td>D0</td>\n",
              "    </tr>\n",
              "    <tr>\n",
              "      <th>1</th>\n",
              "      <td>A1</td>\n",
              "      <td>B1</td>\n",
              "      <td>C1</td>\n",
              "      <td>D1</td>\n",
              "    </tr>\n",
              "    <tr>\n",
              "      <th>2</th>\n",
              "      <td>A2</td>\n",
              "      <td>B2</td>\n",
              "      <td>C2</td>\n",
              "      <td>D2</td>\n",
              "    </tr>\n",
              "    <tr>\n",
              "      <th>3</th>\n",
              "      <td>A3</td>\n",
              "      <td>B3</td>\n",
              "      <td>C3</td>\n",
              "      <td>D3</td>\n",
              "    </tr>\n",
              "    <tr>\n",
              "      <th>4</th>\n",
              "      <td>A4</td>\n",
              "      <td>B4</td>\n",
              "      <td>C4</td>\n",
              "      <td>D4</td>\n",
              "    </tr>\n",
              "    <tr>\n",
              "      <th>5</th>\n",
              "      <td>A5</td>\n",
              "      <td>B5</td>\n",
              "      <td>C5</td>\n",
              "      <td>D5</td>\n",
              "    </tr>\n",
              "    <tr>\n",
              "      <th>6</th>\n",
              "      <td>A6</td>\n",
              "      <td>B6</td>\n",
              "      <td>C6</td>\n",
              "      <td>D6</td>\n",
              "    </tr>\n",
              "    <tr>\n",
              "      <th>7</th>\n",
              "      <td>A7</td>\n",
              "      <td>B7</td>\n",
              "      <td>C7</td>\n",
              "      <td>D7</td>\n",
              "    </tr>\n",
              "    <tr>\n",
              "      <th>8</th>\n",
              "      <td>A8</td>\n",
              "      <td>B8</td>\n",
              "      <td>C8</td>\n",
              "      <td>D8</td>\n",
              "    </tr>\n",
              "    <tr>\n",
              "      <th>9</th>\n",
              "      <td>A9</td>\n",
              "      <td>B9</td>\n",
              "      <td>C9</td>\n",
              "      <td>D9</td>\n",
              "    </tr>\n",
              "    <tr>\n",
              "      <th>10</th>\n",
              "      <td>A10</td>\n",
              "      <td>B10</td>\n",
              "      <td>C10</td>\n",
              "      <td>D10</td>\n",
              "    </tr>\n",
              "    <tr>\n",
              "      <th>11</th>\n",
              "      <td>A11</td>\n",
              "      <td>B11</td>\n",
              "      <td>C11</td>\n",
              "      <td>D11</td>\n",
              "    </tr>\n",
              "  </tbody>\n",
              "</table>\n",
              "</div>"
            ],
            "text/plain": [
              "      A    B    C    D\n",
              "0    A0   B0   C0   D0\n",
              "1    A1   B1   C1   D1\n",
              "2    A2   B2   C2   D2\n",
              "3    A3   B3   C3   D3\n",
              "4    A4   B4   C4   D4\n",
              "5    A5   B5   C5   D5\n",
              "6    A6   B6   C6   D6\n",
              "7    A7   B7   C7   D7\n",
              "8    A8   B8   C8   D8\n",
              "9    A9   B9   C9   D9\n",
              "10  A10  B10  C10  D10\n",
              "11  A11  B11  C11  D11"
            ]
          },
          "metadata": {
            "tags": []
          },
          "execution_count": 56
        }
      ]
    },
    {
      "cell_type": "code",
      "metadata": {
        "colab": {
          "base_uri": "https://localhost:8080/",
          "height": 330
        },
        "id": "qIW9jEYmUVHh",
        "outputId": "6618d4a4-830f-452e-8a4e-8de26109c75a"
      },
      "source": [
        ""
      ],
      "execution_count": 61,
      "outputs": [
        {
          "output_type": "error",
          "ename": "KeyError",
          "evalue": "ignored",
          "traceback": [
            "\u001b[0;31m---------------------------------------------------------------------------\u001b[0m",
            "\u001b[0;31mKeyError\u001b[0m                                  Traceback (most recent call last)",
            "\u001b[0;32m<ipython-input-61-2d254a54ba82>\u001b[0m in \u001b[0;36m<module>\u001b[0;34m()\u001b[0m\n\u001b[0;32m----> 1\u001b[0;31m \u001b[0mdf1\u001b[0m \u001b[0;34m=\u001b[0m \u001b[0mdf_new\u001b[0m\u001b[0;34m.\u001b[0m\u001b[0mdrop\u001b[0m\u001b[0;34m(\u001b[0m\u001b[0;34m[\u001b[0m\u001b[0;34m'A'\u001b[0m\u001b[0;34m,\u001b[0m\u001b[0;34m'D'\u001b[0m\u001b[0;34m]\u001b[0m\u001b[0;34m,\u001b[0m \u001b[0maxis\u001b[0m\u001b[0;34m=\u001b[0m\u001b[0;36m1\u001b[0m\u001b[0;34m)\u001b[0m\u001b[0;34m\u001b[0m\u001b[0;34m\u001b[0m\u001b[0m\n\u001b[0m\u001b[1;32m      2\u001b[0m \u001b[0mdf1\u001b[0m\u001b[0;34m\u001b[0m\u001b[0;34m\u001b[0m\u001b[0m\n",
            "\u001b[0;32m/usr/local/lib/python3.6/dist-packages/pandas/core/frame.py\u001b[0m in \u001b[0;36mdrop\u001b[0;34m(self, labels, axis, index, columns, level, inplace, errors)\u001b[0m\n\u001b[1;32m   4172\u001b[0m             \u001b[0mlevel\u001b[0m\u001b[0;34m=\u001b[0m\u001b[0mlevel\u001b[0m\u001b[0;34m,\u001b[0m\u001b[0;34m\u001b[0m\u001b[0;34m\u001b[0m\u001b[0m\n\u001b[1;32m   4173\u001b[0m             \u001b[0minplace\u001b[0m\u001b[0;34m=\u001b[0m\u001b[0minplace\u001b[0m\u001b[0;34m,\u001b[0m\u001b[0;34m\u001b[0m\u001b[0;34m\u001b[0m\u001b[0m\n\u001b[0;32m-> 4174\u001b[0;31m             \u001b[0merrors\u001b[0m\u001b[0;34m=\u001b[0m\u001b[0merrors\u001b[0m\u001b[0;34m,\u001b[0m\u001b[0;34m\u001b[0m\u001b[0;34m\u001b[0m\u001b[0m\n\u001b[0m\u001b[1;32m   4175\u001b[0m         )\n\u001b[1;32m   4176\u001b[0m \u001b[0;34m\u001b[0m\u001b[0m\n",
            "\u001b[0;32m/usr/local/lib/python3.6/dist-packages/pandas/core/generic.py\u001b[0m in \u001b[0;36mdrop\u001b[0;34m(self, labels, axis, index, columns, level, inplace, errors)\u001b[0m\n\u001b[1;32m   3887\u001b[0m         \u001b[0;32mfor\u001b[0m \u001b[0maxis\u001b[0m\u001b[0;34m,\u001b[0m \u001b[0mlabels\u001b[0m \u001b[0;32min\u001b[0m \u001b[0maxes\u001b[0m\u001b[0;34m.\u001b[0m\u001b[0mitems\u001b[0m\u001b[0;34m(\u001b[0m\u001b[0;34m)\u001b[0m\u001b[0;34m:\u001b[0m\u001b[0;34m\u001b[0m\u001b[0;34m\u001b[0m\u001b[0m\n\u001b[1;32m   3888\u001b[0m             \u001b[0;32mif\u001b[0m \u001b[0mlabels\u001b[0m \u001b[0;32mis\u001b[0m \u001b[0;32mnot\u001b[0m \u001b[0;32mNone\u001b[0m\u001b[0;34m:\u001b[0m\u001b[0;34m\u001b[0m\u001b[0;34m\u001b[0m\u001b[0m\n\u001b[0;32m-> 3889\u001b[0;31m                 \u001b[0mobj\u001b[0m \u001b[0;34m=\u001b[0m \u001b[0mobj\u001b[0m\u001b[0;34m.\u001b[0m\u001b[0m_drop_axis\u001b[0m\u001b[0;34m(\u001b[0m\u001b[0mlabels\u001b[0m\u001b[0;34m,\u001b[0m \u001b[0maxis\u001b[0m\u001b[0;34m,\u001b[0m \u001b[0mlevel\u001b[0m\u001b[0;34m=\u001b[0m\u001b[0mlevel\u001b[0m\u001b[0;34m,\u001b[0m \u001b[0merrors\u001b[0m\u001b[0;34m=\u001b[0m\u001b[0merrors\u001b[0m\u001b[0;34m)\u001b[0m\u001b[0;34m\u001b[0m\u001b[0;34m\u001b[0m\u001b[0m\n\u001b[0m\u001b[1;32m   3890\u001b[0m \u001b[0;34m\u001b[0m\u001b[0m\n\u001b[1;32m   3891\u001b[0m         \u001b[0;32mif\u001b[0m \u001b[0minplace\u001b[0m\u001b[0;34m:\u001b[0m\u001b[0;34m\u001b[0m\u001b[0;34m\u001b[0m\u001b[0m\n",
            "\u001b[0;32m/usr/local/lib/python3.6/dist-packages/pandas/core/generic.py\u001b[0m in \u001b[0;36m_drop_axis\u001b[0;34m(self, labels, axis, level, errors)\u001b[0m\n\u001b[1;32m   3921\u001b[0m                 \u001b[0mnew_axis\u001b[0m \u001b[0;34m=\u001b[0m \u001b[0maxis\u001b[0m\u001b[0;34m.\u001b[0m\u001b[0mdrop\u001b[0m\u001b[0;34m(\u001b[0m\u001b[0mlabels\u001b[0m\u001b[0;34m,\u001b[0m \u001b[0mlevel\u001b[0m\u001b[0;34m=\u001b[0m\u001b[0mlevel\u001b[0m\u001b[0;34m,\u001b[0m \u001b[0merrors\u001b[0m\u001b[0;34m=\u001b[0m\u001b[0merrors\u001b[0m\u001b[0;34m)\u001b[0m\u001b[0;34m\u001b[0m\u001b[0;34m\u001b[0m\u001b[0m\n\u001b[1;32m   3922\u001b[0m             \u001b[0;32melse\u001b[0m\u001b[0;34m:\u001b[0m\u001b[0;34m\u001b[0m\u001b[0;34m\u001b[0m\u001b[0m\n\u001b[0;32m-> 3923\u001b[0;31m                 \u001b[0mnew_axis\u001b[0m \u001b[0;34m=\u001b[0m \u001b[0maxis\u001b[0m\u001b[0;34m.\u001b[0m\u001b[0mdrop\u001b[0m\u001b[0;34m(\u001b[0m\u001b[0mlabels\u001b[0m\u001b[0;34m,\u001b[0m \u001b[0merrors\u001b[0m\u001b[0;34m=\u001b[0m\u001b[0merrors\u001b[0m\u001b[0;34m)\u001b[0m\u001b[0;34m\u001b[0m\u001b[0;34m\u001b[0m\u001b[0m\n\u001b[0m\u001b[1;32m   3924\u001b[0m             \u001b[0mresult\u001b[0m \u001b[0;34m=\u001b[0m \u001b[0mself\u001b[0m\u001b[0;34m.\u001b[0m\u001b[0mreindex\u001b[0m\u001b[0;34m(\u001b[0m\u001b[0;34m**\u001b[0m\u001b[0;34m{\u001b[0m\u001b[0maxis_name\u001b[0m\u001b[0;34m:\u001b[0m \u001b[0mnew_axis\u001b[0m\u001b[0;34m}\u001b[0m\u001b[0;34m)\u001b[0m\u001b[0;34m\u001b[0m\u001b[0;34m\u001b[0m\u001b[0m\n\u001b[1;32m   3925\u001b[0m \u001b[0;34m\u001b[0m\u001b[0m\n",
            "\u001b[0;32m/usr/local/lib/python3.6/dist-packages/pandas/core/indexes/base.py\u001b[0m in \u001b[0;36mdrop\u001b[0;34m(self, labels, errors)\u001b[0m\n\u001b[1;32m   5285\u001b[0m         \u001b[0;32mif\u001b[0m \u001b[0mmask\u001b[0m\u001b[0;34m.\u001b[0m\u001b[0many\u001b[0m\u001b[0;34m(\u001b[0m\u001b[0;34m)\u001b[0m\u001b[0;34m:\u001b[0m\u001b[0;34m\u001b[0m\u001b[0;34m\u001b[0m\u001b[0m\n\u001b[1;32m   5286\u001b[0m             \u001b[0;32mif\u001b[0m \u001b[0merrors\u001b[0m \u001b[0;34m!=\u001b[0m \u001b[0;34m\"ignore\"\u001b[0m\u001b[0;34m:\u001b[0m\u001b[0;34m\u001b[0m\u001b[0;34m\u001b[0m\u001b[0m\n\u001b[0;32m-> 5287\u001b[0;31m                 \u001b[0;32mraise\u001b[0m \u001b[0mKeyError\u001b[0m\u001b[0;34m(\u001b[0m\u001b[0;34mf\"{labels[mask]} not found in axis\"\u001b[0m\u001b[0;34m)\u001b[0m\u001b[0;34m\u001b[0m\u001b[0;34m\u001b[0m\u001b[0m\n\u001b[0m\u001b[1;32m   5288\u001b[0m             \u001b[0mindexer\u001b[0m \u001b[0;34m=\u001b[0m \u001b[0mindexer\u001b[0m\u001b[0;34m[\u001b[0m\u001b[0;34m~\u001b[0m\u001b[0mmask\u001b[0m\u001b[0;34m]\u001b[0m\u001b[0;34m\u001b[0m\u001b[0;34m\u001b[0m\u001b[0m\n\u001b[1;32m   5289\u001b[0m         \u001b[0;32mreturn\u001b[0m \u001b[0mself\u001b[0m\u001b[0;34m.\u001b[0m\u001b[0mdelete\u001b[0m\u001b[0;34m(\u001b[0m\u001b[0mindexer\u001b[0m\u001b[0;34m)\u001b[0m\u001b[0;34m\u001b[0m\u001b[0;34m\u001b[0m\u001b[0m\n",
            "\u001b[0;31mKeyError\u001b[0m: \"['A' 'D'] not found in axis\""
          ]
        }
      ]
    },
    {
      "cell_type": "markdown",
      "metadata": {
        "id": "cPTh8x_QN6KT"
      },
      "source": [
        "#**Find Correlation**"
      ]
    },
    {
      "cell_type": "code",
      "metadata": {
        "colab": {
          "base_uri": "https://localhost:8080/",
          "height": 175
        },
        "id": "9HHEQGgSN8Nc",
        "outputId": "8631c70b-8462-4eb6-b0af-60b2bd6b64f3"
      },
      "source": [
        "import pandas as pd\n",
        "\n",
        "data =[[1.0,0.241,0.241,0.217],\n",
        "\t     [0.241,1.0,0.186,0.175],\n",
        "\t     [0.241,0.186,1.0,0.264],\n",
        "\t     [0.217,0.175,0.264,1.0]]\n",
        "\n",
        "df = pd.DataFrame(data,columns=[\"S\",\"D\",\"Q\",\"C\"])\n",
        "#df\n",
        "#df.corr()"
      ],
      "execution_count": 44,
      "outputs": [
        {
          "output_type": "execute_result",
          "data": {
            "text/html": [
              "<div>\n",
              "<style scoped>\n",
              "    .dataframe tbody tr th:only-of-type {\n",
              "        vertical-align: middle;\n",
              "    }\n",
              "\n",
              "    .dataframe tbody tr th {\n",
              "        vertical-align: top;\n",
              "    }\n",
              "\n",
              "    .dataframe thead th {\n",
              "        text-align: right;\n",
              "    }\n",
              "</style>\n",
              "<table border=\"1\" class=\"dataframe\">\n",
              "  <thead>\n",
              "    <tr style=\"text-align: right;\">\n",
              "      <th></th>\n",
              "      <th>S</th>\n",
              "      <th>D</th>\n",
              "      <th>Q</th>\n",
              "      <th>C</th>\n",
              "    </tr>\n",
              "  </thead>\n",
              "  <tbody>\n",
              "    <tr>\n",
              "      <th>S</th>\n",
              "      <td>1.000000</td>\n",
              "      <td>-0.250747</td>\n",
              "      <td>-0.301745</td>\n",
              "      <td>-0.362239</td>\n",
              "    </tr>\n",
              "    <tr>\n",
              "      <th>D</th>\n",
              "      <td>-0.250747</td>\n",
              "      <td>1.000000</td>\n",
              "      <td>-0.432845</td>\n",
              "      <td>-0.449111</td>\n",
              "    </tr>\n",
              "    <tr>\n",
              "      <th>Q</th>\n",
              "      <td>-0.301745</td>\n",
              "      <td>-0.432845</td>\n",
              "      <td>1.000000</td>\n",
              "      <td>-0.191873</td>\n",
              "    </tr>\n",
              "    <tr>\n",
              "      <th>C</th>\n",
              "      <td>-0.362239</td>\n",
              "      <td>-0.449111</td>\n",
              "      <td>-0.191873</td>\n",
              "      <td>1.000000</td>\n",
              "    </tr>\n",
              "  </tbody>\n",
              "</table>\n",
              "</div>"
            ],
            "text/plain": [
              "          S         D         Q         C\n",
              "S  1.000000 -0.250747 -0.301745 -0.362239\n",
              "D -0.250747  1.000000 -0.432845 -0.449111\n",
              "Q -0.301745 -0.432845  1.000000 -0.191873\n",
              "C -0.362239 -0.449111 -0.191873  1.000000"
            ]
          },
          "metadata": {
            "tags": []
          },
          "execution_count": 44
        }
      ]
    },
    {
      "cell_type": "code",
      "metadata": {
        "colab": {
          "base_uri": "https://localhost:8080/",
          "height": 278
        },
        "id": "J35ORjryOaO0",
        "outputId": "8fa1f978-9081-4227-a1cd-e6fed5494cb2"
      },
      "source": [
        "import matplotlib.pyplot as plt\n",
        "import seaborn as sns\n",
        "\n",
        "sns.set(font_scale=1.9)\n",
        "\n",
        "cbar_kws = {\"shrink\":.8,\n",
        "           'extend':'both'}\n",
        "heatmap_Pheme = sns.heatmap(df, annot=True, fmt='g', linewidths = 0.5, annot_kws={\"size\": 20}, cmap=\"inferno\", cbar_kws = cbar_kws,square=True)\n",
        "#plt.show()"
      ],
      "execution_count": 45,
      "outputs": [
        {
          "output_type": "display_data",
          "data": {
            "image/png": "[encoded data removed]",
            "text/plain": [
              "<Figure size 432x288 with 2 Axes>"
            ]
          },
          "metadata": {
            "tags": []
          }
        }
      ]
    }
  ]
}